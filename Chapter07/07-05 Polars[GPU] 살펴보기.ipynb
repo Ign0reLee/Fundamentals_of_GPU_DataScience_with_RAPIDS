{
 "cells": [
  {
   "cell_type": "code",
   "execution_count": 1,
   "id": "d033f18d-4faf-49f5-8a95-973b6948141b",
   "metadata": {
    "scrolled": true
   },
   "outputs": [
    {
     "name": "stdout",
     "output_type": "stream",
     "text": [
      "Looking in indexes: https://pypi.org/simple, https://pypi.ngc.nvidia.com, https://pypi.nvidia.com\n",
      "Requirement already satisfied: polars[GPU] in /home/cvmi_jeyoung/anaconda3/envs/rapids2/lib/python3.10/site-packages (1.8.2)\n",
      "Requirement already satisfied: cudf-polars-cu12 in /home/cvmi_jeyoung/anaconda3/envs/rapids2/lib/python3.10/site-packages (from polars[GPU]) (24.10.1)\n",
      "Requirement already satisfied: pylibcudf-cu12==24.10.* in /home/cvmi_jeyoung/anaconda3/envs/rapids2/lib/python3.10/site-packages (from cudf-polars-cu12->polars[GPU]) (24.10.1)\n",
      "Requirement already satisfied: cuda-python<13.0a0,>=12.0 in /home/cvmi_jeyoung/anaconda3/envs/rapids2/lib/python3.10/site-packages (from pylibcudf-cu12==24.10.*->cudf-polars-cu12->polars[GPU]) (12.6.2.post1)\n",
      "Requirement already satisfied: libcudf-cu12==24.10.* in /home/cvmi_jeyoung/anaconda3/envs/rapids2/lib/python3.10/site-packages (from pylibcudf-cu12==24.10.*->cudf-polars-cu12->polars[GPU]) (24.10.1)\n",
      "Requirement already satisfied: nvtx>=0.2.1 in /home/cvmi_jeyoung/anaconda3/envs/rapids2/lib/python3.10/site-packages (from pylibcudf-cu12==24.10.*->cudf-polars-cu12->polars[GPU]) (0.2.10)\n",
      "Requirement already satisfied: packaging in /home/cvmi_jeyoung/anaconda3/envs/rapids2/lib/python3.10/site-packages (from pylibcudf-cu12==24.10.*->cudf-polars-cu12->polars[GPU]) (24.2)\n",
      "Requirement already satisfied: pyarrow<18.0.0a0,>=14.0.0 in /home/cvmi_jeyoung/anaconda3/envs/rapids2/lib/python3.10/site-packages (from pylibcudf-cu12==24.10.*->cudf-polars-cu12->polars[GPU]) (17.0.0)\n",
      "Requirement already satisfied: rmm-cu12==24.10.* in /home/cvmi_jeyoung/anaconda3/envs/rapids2/lib/python3.10/site-packages (from pylibcudf-cu12==24.10.*->cudf-polars-cu12->polars[GPU]) (24.10.0)\n",
      "Requirement already satisfied: typing_extensions>=4.0.0 in /home/cvmi_jeyoung/anaconda3/envs/rapids2/lib/python3.10/site-packages (from pylibcudf-cu12==24.10.*->cudf-polars-cu12->polars[GPU]) (4.12.2)\n",
      "Requirement already satisfied: numba>=0.57 in /home/cvmi_jeyoung/anaconda3/envs/rapids2/lib/python3.10/site-packages (from rmm-cu12==24.10.*->pylibcudf-cu12==24.10.*->cudf-polars-cu12->polars[GPU]) (0.60.0)\n",
      "Requirement already satisfied: numpy<3.0a0,>=1.23 in /home/cvmi_jeyoung/anaconda3/envs/rapids2/lib/python3.10/site-packages (from rmm-cu12==24.10.*->pylibcudf-cu12==24.10.*->cudf-polars-cu12->polars[GPU]) (2.0.2)\n",
      "Requirement already satisfied: llvmlite<0.44,>=0.43.0dev0 in /home/cvmi_jeyoung/anaconda3/envs/rapids2/lib/python3.10/site-packages (from numba>=0.57->rmm-cu12==24.10.*->pylibcudf-cu12==24.10.*->cudf-polars-cu12->polars[GPU]) (0.43.0)\n",
      "Note: you may need to restart the kernel to use updated packages.\n"
     ]
    }
   ],
   "source": [
    "pip install --extra-index-url=https://pypi.nvidia.com polars[GPU]\n"
   ]
  },
  {
   "cell_type": "markdown",
   "id": "bbdb93e8-5c7e-4468-815a-a531fd1f421f",
   "metadata": {},
   "source": [
    "# Polars"
   ]
  },
  {
   "cell_type": "code",
   "execution_count": 2,
   "id": "1ea379a5-d65b-4574-90e4-24c38fe5064c",
   "metadata": {},
   "outputs": [],
   "source": [
    "import polars as pl"
   ]
  },
  {
   "cell_type": "code",
   "execution_count": 3,
   "id": "419068b5-6a69-481c-95b8-9490839cd976",
   "metadata": {},
   "outputs": [],
   "source": [
    "lazy_df = pl.scan_csv(\"../data/boston/HousingData.csv\")\n",
    "\n",
    "result = (\n",
    "    lazy_df    \n",
    "    .with_columns([\n",
    "         pl.when(pl.col(col).cast(pl.String) == \"NA\")\n",
    "        .then(None)\n",
    "        .otherwise(pl.col(col))\n",
    "        .cast(pl.Float32)\n",
    "        .alias(col)\n",
    "        for col in lazy_df.collect_schema().names()\n",
    "    ])\n",
    "    \n",
    "    .drop_nulls()\n",
    "    \n",
    "    .with_columns(  \n",
    "        pl.when(pl.col(\"CRIM\")<=180.)\n",
    "        .then(True)\n",
    "        .otherwise(False)\n",
    "        .cast(pl.Float32)\n",
    "        .alias(\"SAFE\")\n",
    "    )\n",
    "    \n",
    "    .with_columns(\n",
    "        (pl.col(\"RM\") / pl.col(\"MEDV\") * 100)\n",
    "        .alias(\"RM/MEDV\")\n",
    "        )\n",
    ")"
   ]
  },
  {
   "cell_type": "code",
   "execution_count": 4,
   "id": "b2301c8c-6a96-4ad4-a605-6368182fceeb",
   "metadata": {},
   "outputs": [
    {
     "data": {
      "image/svg+xml": [
       "<svg xmlns=\"http://www.w3.org/2000/svg\" xmlns:xlink=\"http://www.w3.org/1999/xlink\" width=\"14586pt\" height=\"334pt\" viewBox=\"0.00 0.00 14586.00 334.00\">\n",
       "<g id=\"graph0\" class=\"graph\" transform=\"scale(1 1) rotate(0) translate(4 330)\">\n",
       "<title>polars_query</title>\n",
       "<polygon fill=\"white\" stroke=\"transparent\" points=\"-4,4 -4,-330 14582,-330 14582,4 -4,4\"/>\n",
       "<!-- p1 -->\n",
       "<g id=\"node1\" class=\"node\">\n",
       "<title>p1</title>\n",
       "<polygon fill=\"none\" stroke=\"black\" points=\"7580.5,-326 6997.5,-326 6997.5,-290 7580.5,-290 7580.5,-326\"/>\n",
       "<text text-anchor=\"middle\" x=\"7289\" y=\"-304.3\" font-family=\"Times,serif\" font-size=\"14.00\">WITH COLUMNS [[([(col(&quot;RM&quot;)) / (col(&quot;MEDV&quot;))]) * (100.0)].alias(&quot;RM/MEDV&quot;)]</text>\n",
       "</g>\n",
       "<!-- p2 -->\n",
       "<g id=\"node2\" class=\"node\">\n",
       "<title>p2</title>\n",
       "<polygon fill=\"none\" stroke=\"black\" points=\"7706.5,-254 6871.5,-254 6871.5,-218 7706.5,-218 7706.5,-254\"/>\n",
       "<text text-anchor=\"middle\" x=\"7289\" y=\"-232.3\" font-family=\"Times,serif\" font-size=\"14.00\">WITH COLUMNS [when([(col(&quot;CRIM&quot;)) &lt;= (180.0)]).then(true).otherwise(false).strict_cast(Float32).alias(&quot;SAFE&quot;)]</text>\n",
       "</g>\n",
       "<!-- p1&#45;&#45;p2 -->\n",
       "<g id=\"edge1\" class=\"edge\">\n",
       "<title>p1--p2</title>\n",
       "<path fill=\"none\" stroke=\"black\" d=\"M7289,-289.7C7289,-278.85 7289,-264.92 7289,-254.1\"/>\n",
       "</g>\n",
       "<!-- p3 -->\n",
       "<g id=\"node3\" class=\"node\">\n",
       "<title>p3</title>\n",
       "<polygon fill=\"none\" stroke=\"black\" points=\"8876,-182 5702,-182 5702,-146 8876,-146 8876,-182\"/>\n",
       "<text text-anchor=\"middle\" x=\"7289\" y=\"-160.3\" font-family=\"Times,serif\" font-size=\"14.00\">FILTER BY [([([([([([([([([([([([([(col(&quot;CRIM&quot;).is_not_null()) &amp; (col(&quot;ZN&quot;).is_not_null())]) &amp; (col(&quot;INDUS&quot;).is_not_null())]) &amp; (col(&quot;CHAS&quot;).is_not_null())]) &amp; (col(&quot;NOX&quot;).is_not_null())]) &amp; (col(&quot;RM&quot;).is_not_null())]) &amp; (col(&quot;AGE&quot;).is_not_null())]) &amp; (col(&quot;DIS&quot;).is_not_null())]) &amp; (col(&quot;RAD&quot;).is_not_null())]) &amp; (col(&quot;TAX&quot;).is_not_null())]) &amp; (col(&quot;PTRATIO&quot;).is_not_null())]) &amp; (col(&quot;B&quot;).is_not_null())]) &amp; (col(&quot;LSTAT&quot;).is_not_null())]) &amp; (col(&quot;MEDV&quot;).is_not_null())]</text>\n",
       "</g>\n",
       "<!-- p2&#45;&#45;p3 -->\n",
       "<g id=\"edge2\" class=\"edge\">\n",
       "<title>p2--p3</title>\n",
       "<path fill=\"none\" stroke=\"black\" d=\"M7289,-217.7C7289,-206.85 7289,-192.92 7289,-182.1\"/>\n",
       "</g>\n",
       "<!-- p4 -->\n",
       "<g id=\"node4\" class=\"node\">\n",
       "<title>p4</title>\n",
       "<polygon fill=\"none\" stroke=\"black\" points=\"14578,-110 0,-110 0,-74 14578,-74 14578,-110\"/>\n",
       "<text text-anchor=\"middle\" x=\"7289\" y=\"-88.3\" font-family=\"Times,serif\" font-size=\"14.00\">WITH COLUMNS [when([(col(&quot;CRIM&quot;).strict_cast(String)) == (String(NA))]).then(null.strict_cast(String)).otherwise(col(&quot;CRIM&quot;)).strict_cast(Float32).alias(&quot;CRIM&quot;), when([(col(&quot;ZN&quot;).strict_cast(String)) == (String(NA))]).then(null.strict_cast(String)).otherwise(col(&quot;ZN&quot;)).strict_cast(Float32).alias(&quot;ZN&quot;), when([(col(&quot;INDUS&quot;).strict_cast(String)) == (String(NA))]).then(null.strict_cast(String)).otherwise(col(&quot;INDUS&quot;)).strict_cast(Float32).alias(&quot;INDUS&quot;), when([(col(&quot;CHAS&quot;).strict_cast(String)) == (String(NA))]).then(null.strict_cast(String)).otherwise(col(&quot;CHAS&quot;)).strict_cast(Float32).alias(&quot;CHAS&quot;), when([(col(&quot;NOX&quot;).strict_cast(String)) == (String(NA))]).then(null.strict_cast(Float64)).otherwise(col(&quot;NOX&quot;)).strict_cast(Float32).alias(&quot;NOX&quot;), when([(col(&quot;RM&quot;).strict_cast(String)) == (String(NA))]).then(null.strict_cast(Float64)).otherwise(col(&quot;RM&quot;)).strict_cast(Float32).alias(&quot;RM&quot;), when([(col(&quot;AGE&quot;).strict_cast(String)) == (String(NA))]).then(null.strict_cast(String)).otherwise(col(&quot;AGE&quot;)).strict_cast(Float32).alias(&quot;AGE&quot;), when([(col(&quot;DIS&quot;).strict_cast(String)) == (String(NA))]).then(null.strict_cast(Float64)).otherwise(col(&quot;DIS&quot;)).strict_cast(Float32).alias(&quot;DIS&quot;), when([(col(&quot;RAD&quot;).strict_cast(String)) == (String(NA))]).then(null.strict_cast(Int64)).otherwise(col(&quot;RAD&quot;)).strict_cast(Float32).alias(&quot;RAD&quot;), when([(col(&quot;TAX&quot;).strict_cast(String)) == (String(NA))]).then(null.strict_cast(Int64)).otherwise(col(&quot;TAX&quot;)).strict_cast(Float32).alias(&quot;TAX&quot;), when([(col(&quot;PTRATIO&quot;).strict_cast(String)) == (String(NA))]).then(null.strict_cast(Float64)).otherwise(col(&quot;PTRATIO&quot;)).strict_cast(Float32).alias(&quot;PTRATIO&quot;), when([(col(&quot;B&quot;).strict_cast(String)) == (String(NA))]).then(null.strict_cast(Float64)).otherwise(col(&quot;B&quot;)).strict_cast(Float32).alias(&quot;B&quot;), when([(col(&quot;LSTAT&quot;).strict_cast(String)) == (String(NA))]).then(null.strict_cast(String)).otherwise(col(&quot;LSTAT&quot;)).strict_cast(Float32).alias(&quot;LSTAT&quot;), when([(col(&quot;MEDV&quot;).strict_cast(String)) == (String(NA))]).then(null.strict_cast(Float64)).otherwise(col(&quot;MEDV&quot;)).strict_cast(Float32).alias(&quot;MEDV&quot;)]</text>\n",
       "</g>\n",
       "<!-- p3&#45;&#45;p4 -->\n",
       "<g id=\"edge3\" class=\"edge\">\n",
       "<title>p3--p4</title>\n",
       "<path fill=\"none\" stroke=\"black\" d=\"M7289,-145.7C7289,-134.85 7289,-120.92 7289,-110.1\"/>\n",
       "</g>\n",
       "<!-- p5 -->\n",
       "<g id=\"node5\" class=\"node\">\n",
       "<title>p5</title>\n",
       "<polygon fill=\"none\" stroke=\"black\" points=\"7452.5,-38 7125.5,-38 7125.5,0 7452.5,0 7452.5,-38\"/>\n",
       "<text text-anchor=\"middle\" x=\"7289\" y=\"-22.8\" font-family=\"Times,serif\" font-size=\"14.00\">Csv SCAN [../data/boston/HousingData.csv]</text>\n",
       "<text text-anchor=\"middle\" x=\"7289\" y=\"-7.8\" font-family=\"Times,serif\" font-size=\"14.00\">π */14;</text>\n",
       "</g>\n",
       "<!-- p4&#45;&#45;p5 -->\n",
       "<g id=\"edge4\" class=\"edge\">\n",
       "<title>p4--p5</title>\n",
       "<path fill=\"none\" stroke=\"black\" d=\"M7289,-73.81C7289,-62.98 7289,-49.01 7289,-38.02\"/>\n",
       "</g>\n",
       "</g>\n",
       "</svg>"
      ],
      "text/plain": [
       "<IPython.core.display.SVG object>"
      ]
     },
     "metadata": {},
     "output_type": "display_data"
    }
   ],
   "source": [
    "result.show_graph(optimized=False)"
   ]
  },
  {
   "cell_type": "code",
   "execution_count": 5,
   "id": "c66211c7-8b2f-453b-a7e0-ce172265ae73",
   "metadata": {},
   "outputs": [
    {
     "data": {
      "image/svg+xml": [
       "<svg xmlns=\"http://www.w3.org/2000/svg\" xmlns:xlink=\"http://www.w3.org/1999/xlink\" width=\"14586pt\" height=\"262pt\" viewBox=\"0.00 0.00 14586.00 262.00\">\n",
       "<g id=\"graph0\" class=\"graph\" transform=\"scale(1 1) rotate(0) translate(4 258)\">\n",
       "<title>polars_query</title>\n",
       "<polygon fill=\"white\" stroke=\"transparent\" points=\"-4,4 -4,-258 14582,-258 14582,4 -4,4\"/>\n",
       "<!-- p1 -->\n",
       "<g id=\"node1\" class=\"node\">\n",
       "<title>p1</title>\n",
       "<polygon fill=\"none\" stroke=\"black\" points=\"7925,-254 6653,-254 6653,-218 7925,-218 7925,-254\"/>\n",
       "<text text-anchor=\"middle\" x=\"7289\" y=\"-232.3\" font-family=\"Times,serif\" font-size=\"14.00\">WITH COLUMNS [when([(col(&quot;CRIM&quot;)) &lt;= (180.0)]).then(true).otherwise(false).strict_cast(Float32).alias(&quot;SAFE&quot;), [([(col(&quot;RM&quot;)) / (col(&quot;MEDV&quot;))]) * (100.0)].alias(&quot;RM/MEDV&quot;)]</text>\n",
       "</g>\n",
       "<!-- p2 -->\n",
       "<g id=\"node2\" class=\"node\">\n",
       "<title>p2</title>\n",
       "<polygon fill=\"none\" stroke=\"black\" points=\"8876,-182 5702,-182 5702,-146 8876,-146 8876,-182\"/>\n",
       "<text text-anchor=\"middle\" x=\"7289\" y=\"-160.3\" font-family=\"Times,serif\" font-size=\"14.00\">FILTER BY [([([([([([([([([([([([([(col(&quot;CRIM&quot;).is_not_null()) &amp; (col(&quot;ZN&quot;).is_not_null())]) &amp; (col(&quot;INDUS&quot;).is_not_null())]) &amp; (col(&quot;CHAS&quot;).is_not_null())]) &amp; (col(&quot;NOX&quot;).is_not_null())]) &amp; (col(&quot;RM&quot;).is_not_null())]) &amp; (col(&quot;AGE&quot;).is_not_null())]) &amp; (col(&quot;DIS&quot;).is_not_null())]) &amp; (col(&quot;RAD&quot;).is_not_null())]) &amp; (col(&quot;TAX&quot;).is_not_null())]) &amp; (col(&quot;PTRATIO&quot;).is_not_null())]) &amp; (col(&quot;B&quot;).is_not_null())]) &amp; (col(&quot;LSTAT&quot;).is_not_null())]) &amp; (col(&quot;MEDV&quot;).is_not_null())]</text>\n",
       "</g>\n",
       "<!-- p1&#45;&#45;p2 -->\n",
       "<g id=\"edge1\" class=\"edge\">\n",
       "<title>p1--p2</title>\n",
       "<path fill=\"none\" stroke=\"black\" d=\"M7289,-217.7C7289,-206.85 7289,-192.92 7289,-182.1\"/>\n",
       "</g>\n",
       "<!-- p3 -->\n",
       "<g id=\"node3\" class=\"node\">\n",
       "<title>p3</title>\n",
       "<polygon fill=\"none\" stroke=\"black\" points=\"14578,-110 0,-110 0,-74 14578,-74 14578,-110\"/>\n",
       "<text text-anchor=\"middle\" x=\"7289\" y=\"-88.3\" font-family=\"Times,serif\" font-size=\"14.00\">WITH COLUMNS [when([(col(&quot;CRIM&quot;).strict_cast(String)) == (String(NA))]).then(null.strict_cast(String)).otherwise(col(&quot;CRIM&quot;)).strict_cast(Float32).alias(&quot;CRIM&quot;), when([(col(&quot;ZN&quot;).strict_cast(String)) == (String(NA))]).then(null.strict_cast(String)).otherwise(col(&quot;ZN&quot;)).strict_cast(Float32).alias(&quot;ZN&quot;), when([(col(&quot;INDUS&quot;).strict_cast(String)) == (String(NA))]).then(null.strict_cast(String)).otherwise(col(&quot;INDUS&quot;)).strict_cast(Float32).alias(&quot;INDUS&quot;), when([(col(&quot;CHAS&quot;).strict_cast(String)) == (String(NA))]).then(null.strict_cast(String)).otherwise(col(&quot;CHAS&quot;)).strict_cast(Float32).alias(&quot;CHAS&quot;), when([(col(&quot;NOX&quot;).strict_cast(String)) == (String(NA))]).then(null.strict_cast(Float64)).otherwise(col(&quot;NOX&quot;)).strict_cast(Float32).alias(&quot;NOX&quot;), when([(col(&quot;RM&quot;).strict_cast(String)) == (String(NA))]).then(null.strict_cast(Float64)).otherwise(col(&quot;RM&quot;)).strict_cast(Float32).alias(&quot;RM&quot;), when([(col(&quot;AGE&quot;).strict_cast(String)) == (String(NA))]).then(null.strict_cast(String)).otherwise(col(&quot;AGE&quot;)).strict_cast(Float32).alias(&quot;AGE&quot;), when([(col(&quot;DIS&quot;).strict_cast(String)) == (String(NA))]).then(null.strict_cast(Float64)).otherwise(col(&quot;DIS&quot;)).strict_cast(Float32).alias(&quot;DIS&quot;), when([(col(&quot;RAD&quot;).strict_cast(String)) == (String(NA))]).then(null.strict_cast(Int64)).otherwise(col(&quot;RAD&quot;)).strict_cast(Float32).alias(&quot;RAD&quot;), when([(col(&quot;TAX&quot;).strict_cast(String)) == (String(NA))]).then(null.strict_cast(Int64)).otherwise(col(&quot;TAX&quot;)).strict_cast(Float32).alias(&quot;TAX&quot;), when([(col(&quot;PTRATIO&quot;).strict_cast(String)) == (String(NA))]).then(null.strict_cast(Float64)).otherwise(col(&quot;PTRATIO&quot;)).strict_cast(Float32).alias(&quot;PTRATIO&quot;), when([(col(&quot;B&quot;).strict_cast(String)) == (String(NA))]).then(null.strict_cast(Float64)).otherwise(col(&quot;B&quot;)).strict_cast(Float32).alias(&quot;B&quot;), when([(col(&quot;LSTAT&quot;).strict_cast(String)) == (String(NA))]).then(null.strict_cast(String)).otherwise(col(&quot;LSTAT&quot;)).strict_cast(Float32).alias(&quot;LSTAT&quot;), when([(col(&quot;MEDV&quot;).strict_cast(String)) == (String(NA))]).then(null.strict_cast(Float64)).otherwise(col(&quot;MEDV&quot;)).strict_cast(Float32).alias(&quot;MEDV&quot;)]</text>\n",
       "</g>\n",
       "<!-- p2&#45;&#45;p3 -->\n",
       "<g id=\"edge2\" class=\"edge\">\n",
       "<title>p2--p3</title>\n",
       "<path fill=\"none\" stroke=\"black\" d=\"M7289,-145.7C7289,-134.85 7289,-120.92 7289,-110.1\"/>\n",
       "</g>\n",
       "<!-- p4 -->\n",
       "<g id=\"node4\" class=\"node\">\n",
       "<title>p4</title>\n",
       "<polygon fill=\"none\" stroke=\"black\" points=\"7452.5,-38 7125.5,-38 7125.5,0 7452.5,0 7452.5,-38\"/>\n",
       "<text text-anchor=\"middle\" x=\"7289\" y=\"-22.8\" font-family=\"Times,serif\" font-size=\"14.00\">Csv SCAN [../data/boston/HousingData.csv]</text>\n",
       "<text text-anchor=\"middle\" x=\"7289\" y=\"-7.8\" font-family=\"Times,serif\" font-size=\"14.00\">π */14;</text>\n",
       "</g>\n",
       "<!-- p3&#45;&#45;p4 -->\n",
       "<g id=\"edge3\" class=\"edge\">\n",
       "<title>p3--p4</title>\n",
       "<path fill=\"none\" stroke=\"black\" d=\"M7289,-73.81C7289,-62.98 7289,-49.01 7289,-38.02\"/>\n",
       "</g>\n",
       "</g>\n",
       "</svg>"
      ],
      "text/plain": [
       "<IPython.core.display.SVG object>"
      ]
     },
     "metadata": {},
     "output_type": "display_data"
    }
   ],
   "source": [
    "result.show_graph(optimized=True)"
   ]
  },
  {
   "cell_type": "code",
   "execution_count": 7,
   "id": "082a2c43-ea92-4cc2-bd35-0e7d07e24c58",
   "metadata": {},
   "outputs": [],
   "source": [
    "# Run on the CPU\n",
    "result_cpu = result.collect()\n",
    "\n",
    "# Run on the GPU\n",
    "result_gpu = result.collect(engine=\"gpu\")"
   ]
  },
  {
   "cell_type": "code",
   "execution_count": 8,
   "id": "e3769cf6-def2-4add-8f62-d56c166b6495",
   "metadata": {},
   "outputs": [],
   "source": [
    "gpu_engine = pl.GPUEngine(\n",
    "    device=0, # This is the default\n",
    "    raise_on_fail=True, # Fail loudly if we can't run on the GPU.\n",
    ")"
   ]
  },
  {
   "cell_type": "code",
   "execution_count": 9,
   "id": "1fbfad5d-a24f-4528-8c67-f69dea8d497a",
   "metadata": {},
   "outputs": [
    {
     "ename": "ComputeError",
     "evalue": "'cuda' conversion failed: NotImplementedError: Can't cast STRING to STRING",
     "output_type": "error",
     "traceback": [
      "\u001b[0;31m---------------------------------------------------------------------------\u001b[0m",
      "\u001b[0;31mComputeError\u001b[0m                              Traceback (most recent call last)",
      "Cell \u001b[0;32mIn[9], line 1\u001b[0m\n\u001b[0;32m----> 1\u001b[0m \u001b[43mresult\u001b[49m\u001b[38;5;241;43m.\u001b[39;49m\u001b[43mcollect\u001b[49m\u001b[43m(\u001b[49m\u001b[43mengine\u001b[49m\u001b[38;5;241;43m=\u001b[39;49m\u001b[43mgpu_engine\u001b[49m\u001b[43m)\u001b[49m\n",
      "File \u001b[0;32m~/anaconda3/envs/rapids2/lib/python3.10/site-packages/polars/lazyframe/frame.py:2053\u001b[0m, in \u001b[0;36mLazyFrame.collect\u001b[0;34m(self, type_coercion, predicate_pushdown, projection_pushdown, simplify_expression, slice_pushdown, comm_subplan_elim, comm_subexpr_elim, cluster_with_columns, collapse_joins, no_optimization, streaming, engine, background, _eager, **_kwargs)\u001b[0m\n\u001b[1;32m   2051\u001b[0m \u001b[38;5;66;03m# Only for testing purposes\u001b[39;00m\n\u001b[1;32m   2052\u001b[0m callback \u001b[38;5;241m=\u001b[39m _kwargs\u001b[38;5;241m.\u001b[39mget(\u001b[38;5;124m\"\u001b[39m\u001b[38;5;124mpost_opt_callback\u001b[39m\u001b[38;5;124m\"\u001b[39m, callback)\n\u001b[0;32m-> 2053\u001b[0m \u001b[38;5;28;01mreturn\u001b[39;00m wrap_df(\u001b[43mldf\u001b[49m\u001b[38;5;241;43m.\u001b[39;49m\u001b[43mcollect\u001b[49m\u001b[43m(\u001b[49m\u001b[43mcallback\u001b[49m\u001b[43m)\u001b[49m)\n",
      "\u001b[0;31mComputeError\u001b[0m: 'cuda' conversion failed: NotImplementedError: Can't cast STRING to STRING"
     ]
    }
   ],
   "source": [
    "result.collect(engine=gpu_engine)"
   ]
  },
  {
   "cell_type": "code",
   "execution_count": 11,
   "id": "b6bc1a42-9a38-4347-a82a-5b4a73a09d21",
   "metadata": {},
   "outputs": [],
   "source": [
    "gpu_engine = pl.GPUEngine(\n",
    "    device=0, # This is the default\n",
    "    raise_on_fail=False, # Fail loudly if we can't run on the GPU.\n",
    ")"
   ]
  },
  {
   "cell_type": "code",
   "execution_count": 12,
   "id": "af788955-7ffa-4f55-8a7b-2c609bded888",
   "metadata": {},
   "outputs": [
    {
     "data": {
      "text/html": [
       "<div><style>\n",
       ".dataframe > thead > tr,\n",
       ".dataframe > tbody > tr {\n",
       "  text-align: right;\n",
       "  white-space: pre-wrap;\n",
       "}\n",
       "</style>\n",
       "<small>shape: (394, 16)</small><table border=\"1\" class=\"dataframe\"><thead><tr><th>CRIM</th><th>ZN</th><th>INDUS</th><th>CHAS</th><th>NOX</th><th>RM</th><th>AGE</th><th>DIS</th><th>RAD</th><th>TAX</th><th>PTRATIO</th><th>B</th><th>LSTAT</th><th>MEDV</th><th>SAFE</th><th>RM/MEDV</th></tr><tr><td>f32</td><td>f32</td><td>f32</td><td>f32</td><td>f32</td><td>f32</td><td>f32</td><td>f32</td><td>f32</td><td>f32</td><td>f32</td><td>f32</td><td>f32</td><td>f32</td><td>f32</td><td>f32</td></tr></thead><tbody><tr><td>0.00632</td><td>18.0</td><td>2.31</td><td>0.0</td><td>0.538</td><td>6.575</td><td>65.199997</td><td>4.09</td><td>1.0</td><td>296.0</td><td>15.3</td><td>396.899994</td><td>4.98</td><td>24.0</td><td>1.0</td><td>27.395832</td></tr><tr><td>0.02731</td><td>0.0</td><td>7.07</td><td>0.0</td><td>0.469</td><td>6.421</td><td>78.900002</td><td>4.9671</td><td>2.0</td><td>242.0</td><td>17.799999</td><td>396.899994</td><td>9.14</td><td>21.6</td><td>1.0</td><td>29.726851</td></tr><tr><td>0.02729</td><td>0.0</td><td>7.07</td><td>0.0</td><td>0.469</td><td>7.185</td><td>61.099998</td><td>4.9671</td><td>2.0</td><td>242.0</td><td>17.799999</td><td>392.829987</td><td>4.03</td><td>34.700001</td><td>1.0</td><td>20.706051</td></tr><tr><td>0.03237</td><td>0.0</td><td>2.18</td><td>0.0</td><td>0.458</td><td>6.998</td><td>45.799999</td><td>6.0622</td><td>3.0</td><td>222.0</td><td>18.700001</td><td>394.630005</td><td>2.94</td><td>33.400002</td><td>1.0</td><td>20.952095</td></tr><tr><td>0.02985</td><td>0.0</td><td>2.18</td><td>0.0</td><td>0.458</td><td>6.43</td><td>58.700001</td><td>6.0622</td><td>3.0</td><td>222.0</td><td>18.700001</td><td>394.119995</td><td>5.21</td><td>28.700001</td><td>1.0</td><td>22.404181</td></tr><tr><td>&hellip;</td><td>&hellip;</td><td>&hellip;</td><td>&hellip;</td><td>&hellip;</td><td>&hellip;</td><td>&hellip;</td><td>&hellip;</td><td>&hellip;</td><td>&hellip;</td><td>&hellip;</td><td>&hellip;</td><td>&hellip;</td><td>&hellip;</td><td>&hellip;</td><td>&hellip;</td></tr><tr><td>0.17783</td><td>0.0</td><td>9.69</td><td>0.0</td><td>0.585</td><td>5.569</td><td>73.5</td><td>2.3999</td><td>6.0</td><td>391.0</td><td>19.200001</td><td>395.769989</td><td>15.1</td><td>17.5</td><td>1.0</td><td>31.822857</td></tr><tr><td>0.22438</td><td>0.0</td><td>9.69</td><td>0.0</td><td>0.585</td><td>6.027</td><td>79.699997</td><td>2.4982</td><td>6.0</td><td>391.0</td><td>19.200001</td><td>396.899994</td><td>14.33</td><td>16.799999</td><td>1.0</td><td>35.875</td></tr><tr><td>0.04527</td><td>0.0</td><td>11.93</td><td>0.0</td><td>0.573</td><td>6.12</td><td>76.699997</td><td>2.2875</td><td>1.0</td><td>273.0</td><td>21.0</td><td>396.899994</td><td>9.08</td><td>20.6</td><td>1.0</td><td>29.708736</td></tr><tr><td>0.06076</td><td>0.0</td><td>11.93</td><td>0.0</td><td>0.573</td><td>6.976</td><td>91.0</td><td>2.1675</td><td>1.0</td><td>273.0</td><td>21.0</td><td>396.899994</td><td>5.64</td><td>23.9</td><td>1.0</td><td>29.188284</td></tr><tr><td>0.10959</td><td>0.0</td><td>11.93</td><td>0.0</td><td>0.573</td><td>6.794</td><td>89.300003</td><td>2.3889</td><td>1.0</td><td>273.0</td><td>21.0</td><td>393.450012</td><td>6.48</td><td>22.0</td><td>1.0</td><td>30.881819</td></tr></tbody></table></div>"
      ],
      "text/plain": [
       "shape: (394, 16)\n",
       "┌─────────┬──────┬───────┬──────┬───┬───────┬───────────┬──────┬───────────┐\n",
       "│ CRIM    ┆ ZN   ┆ INDUS ┆ CHAS ┆ … ┆ LSTAT ┆ MEDV      ┆ SAFE ┆ RM/MEDV   │\n",
       "│ ---     ┆ ---  ┆ ---   ┆ ---  ┆   ┆ ---   ┆ ---       ┆ ---  ┆ ---       │\n",
       "│ f32     ┆ f32  ┆ f32   ┆ f32  ┆   ┆ f32   ┆ f32       ┆ f32  ┆ f32       │\n",
       "╞═════════╪══════╪═══════╪══════╪═══╪═══════╪═══════════╪══════╪═══════════╡\n",
       "│ 0.00632 ┆ 18.0 ┆ 2.31  ┆ 0.0  ┆ … ┆ 4.98  ┆ 24.0      ┆ 1.0  ┆ 27.395832 │\n",
       "│ 0.02731 ┆ 0.0  ┆ 7.07  ┆ 0.0  ┆ … ┆ 9.14  ┆ 21.6      ┆ 1.0  ┆ 29.726851 │\n",
       "│ 0.02729 ┆ 0.0  ┆ 7.07  ┆ 0.0  ┆ … ┆ 4.03  ┆ 34.700001 ┆ 1.0  ┆ 20.706051 │\n",
       "│ 0.03237 ┆ 0.0  ┆ 2.18  ┆ 0.0  ┆ … ┆ 2.94  ┆ 33.400002 ┆ 1.0  ┆ 20.952095 │\n",
       "│ 0.02985 ┆ 0.0  ┆ 2.18  ┆ 0.0  ┆ … ┆ 5.21  ┆ 28.700001 ┆ 1.0  ┆ 22.404181 │\n",
       "│ …       ┆ …    ┆ …     ┆ …    ┆ … ┆ …     ┆ …         ┆ …    ┆ …         │\n",
       "│ 0.17783 ┆ 0.0  ┆ 9.69  ┆ 0.0  ┆ … ┆ 15.1  ┆ 17.5      ┆ 1.0  ┆ 31.822857 │\n",
       "│ 0.22438 ┆ 0.0  ┆ 9.69  ┆ 0.0  ┆ … ┆ 14.33 ┆ 16.799999 ┆ 1.0  ┆ 35.875    │\n",
       "│ 0.04527 ┆ 0.0  ┆ 11.93 ┆ 0.0  ┆ … ┆ 9.08  ┆ 20.6      ┆ 1.0  ┆ 29.708736 │\n",
       "│ 0.06076 ┆ 0.0  ┆ 11.93 ┆ 0.0  ┆ … ┆ 5.64  ┆ 23.9      ┆ 1.0  ┆ 29.188284 │\n",
       "│ 0.10959 ┆ 0.0  ┆ 11.93 ┆ 0.0  ┆ … ┆ 6.48  ┆ 22.0      ┆ 1.0  ┆ 30.881819 │\n",
       "└─────────┴──────┴───────┴──────┴───┴───────┴───────────┴──────┴───────────┘"
      ]
     },
     "execution_count": 12,
     "metadata": {},
     "output_type": "execute_result"
    }
   ],
   "source": [
    "result.collect(engine=gpu_engine)"
   ]
  }
 ],
 "metadata": {
  "kernelspec": {
   "display_name": "Python 3 (ipykernel)",
   "language": "python",
   "name": "python3"
  },
  "language_info": {
   "codemirror_mode": {
    "name": "ipython",
    "version": 3
   },
   "file_extension": ".py",
   "mimetype": "text/x-python",
   "name": "python",
   "nbconvert_exporter": "python",
   "pygments_lexer": "ipython3",
   "version": "3.10.15"
  }
 },
 "nbformat": 4,
 "nbformat_minor": 5
}
