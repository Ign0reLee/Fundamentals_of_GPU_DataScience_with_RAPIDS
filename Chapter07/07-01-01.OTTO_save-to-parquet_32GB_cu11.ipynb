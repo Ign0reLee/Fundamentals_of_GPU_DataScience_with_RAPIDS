{
 "cells": [
  {
   "cell_type": "code",
   "execution_count": 1,
   "id": "880fb09f-9209-4684-9ef3-4c47b10123e5",
   "metadata": {},
   "outputs": [
    {
     "name": "stdout",
     "output_type": "stream",
     "text": [
      "nvcc: NVIDIA (R) Cuda compiler driver\n",
      "Copyright (c) 2005-2021 NVIDIA Corporation\n",
      "Built on Thu_Nov_18_09:45:30_PST_2021\n",
      "Cuda compilation tools, release 11.5, V11.5.119\n",
      "Build cuda_11.5.r11.5/compiler.30672275_0\n"
     ]
    }
   ],
   "source": [
    "!nvcc -V"
   ]
  },
  {
   "cell_type": "code",
   "execution_count": 2,
   "id": "301c24b0-874d-4813-b247-15b2ca6ae013",
   "metadata": {},
   "outputs": [
    {
     "name": "stdout",
     "output_type": "stream",
     "text": [
      "Looking in indexes: https://pypi.org/simple, https://pypi.nvidia.com\n",
      "Requirement already satisfied: polars in ./miniconda3/envs/rapids-24.08/lib/python3.10/site-packages (1.8.2)\n",
      "Requirement already satisfied: cudf-polars-cu11 in ./miniconda3/envs/rapids-24.08/lib/python3.10/site-packages (24.10.1)\n",
      "Requirement already satisfied: pylibcudf-cu11==24.10.* in ./miniconda3/envs/rapids-24.08/lib/python3.10/site-packages (from cudf-polars-cu11) (24.10.1)\n",
      "Requirement already satisfied: cuda-python<12.0a0,>=11.7.1 in ./miniconda3/envs/rapids-24.08/lib/python3.10/site-packages (from pylibcudf-cu11==24.10.*->cudf-polars-cu11) (11.8.3)\n",
      "Requirement already satisfied: libcudf-cu11==24.10.* in ./miniconda3/envs/rapids-24.08/lib/python3.10/site-packages (from pylibcudf-cu11==24.10.*->cudf-polars-cu11) (24.10.1)\n",
      "Requirement already satisfied: nvtx>=0.2.1 in ./miniconda3/envs/rapids-24.08/lib/python3.10/site-packages (from pylibcudf-cu11==24.10.*->cudf-polars-cu11) (0.2.10)\n",
      "Requirement already satisfied: packaging in ./miniconda3/envs/rapids-24.08/lib/python3.10/site-packages (from pylibcudf-cu11==24.10.*->cudf-polars-cu11) (24.1)\n",
      "Requirement already satisfied: pyarrow<18.0.0a0,>=14.0.0 in ./miniconda3/envs/rapids-24.08/lib/python3.10/site-packages (from pylibcudf-cu11==24.10.*->cudf-polars-cu11) (16.1.0)\n",
      "Requirement already satisfied: rmm-cu11==24.10.* in ./miniconda3/envs/rapids-24.08/lib/python3.10/site-packages (from pylibcudf-cu11==24.10.*->cudf-polars-cu11) (24.10.0)\n",
      "Requirement already satisfied: typing_extensions>=4.0.0 in ./miniconda3/envs/rapids-24.08/lib/python3.10/site-packages (from pylibcudf-cu11==24.10.*->cudf-polars-cu11) (4.12.2)\n",
      "Requirement already satisfied: numba>=0.57 in ./miniconda3/envs/rapids-24.08/lib/python3.10/site-packages (from rmm-cu11==24.10.*->pylibcudf-cu11==24.10.*->cudf-polars-cu11) (0.60.0)\n",
      "Requirement already satisfied: numpy<3.0a0,>=1.23 in ./miniconda3/envs/rapids-24.08/lib/python3.10/site-packages (from rmm-cu11==24.10.*->pylibcudf-cu11==24.10.*->cudf-polars-cu11) (1.26.4)\n",
      "Requirement already satisfied: llvmlite<0.44,>=0.43.0dev0 in ./miniconda3/envs/rapids-24.08/lib/python3.10/site-packages (from numba>=0.57->rmm-cu11==24.10.*->pylibcudf-cu11==24.10.*->cudf-polars-cu11) (0.43.0)\n"
     ]
    }
   ],
   "source": [
    "!pip install --extra-index-url=https://pypi.nvidia.com polars cudf-polars-cu11"
   ]
  },
  {
   "cell_type": "code",
   "execution_count": 3,
   "id": "32a8c3c0-1251-4ecd-ab26-66775978ef70",
   "metadata": {},
   "outputs": [
    {
     "name": "stdout",
     "output_type": "stream",
     "text": [
      "CPU times: user 2min 49s, sys: 1min 12s, total: 4min 1s\n",
      "Wall time: 41.6 s\n"
     ]
    }
   ],
   "source": [
    "import polars as pl\n",
    "import json\n",
    "from pathlib import Path\n",
    "import gc\n",
    "\n",
    "def transform_and_save_to_parquet(file, output_dir):\n",
    "    # LazyFrame으로 NDJSON 파일 읽기\n",
    "    df = pl.scan_ndjson(file)\n",
    "        \n",
    "    # 각 세션의 이벤트를 분리하여 2차원 배열 구조로 변환\n",
    "    expanded_df = df.explode(\"events\").select(\n",
    "        pl.col(\"session\"),\n",
    "        pl.col(\"events\").struct.field(\"aid\").alias(\"aid\"),\n",
    "        pl.col(\"events\").struct.field(\"ts\").alias(\"ts\"),\n",
    "        pl.col(\"events\").struct.field(\"type\").alias(\"type\")\n",
    "    )\n",
    "    \n",
    "    # type을 0, 1, 2, 3으로 치환\n",
    "    expanded_df = expanded_df.with_columns(\n",
    "        pl.when(pl.col(\"type\") == \"clicks\").then(0)\n",
    "        .when(pl.col(\"type\") == \"carts\").then(1)\n",
    "        .when(pl.col(\"type\") == \"orders\").then(2)\n",
    "        .otherwise(3).alias(\"type\")\n",
    "    )\n",
    "    \n",
    "    # 데이터 타입 최적화\n",
    "    expanded_df = expanded_df.with_columns([\n",
    "        pl.col(\"session\").cast(pl.UInt32),\n",
    "        pl.col(\"aid\").cast(pl.UInt32),\n",
    "        (pl.col(\"ts\") // 1000).cast(pl.UInt32),     # timestamp를 초 단위로 줄임 (밀리초 -> 초 변환)\n",
    "        pl.col(\"type\").cast(pl.UInt8)\n",
    "    ])\n",
    "    \n",
    "    # LazyFrame 병합 후 Parquet 파일로 저장\n",
    "    combined_df = expanded_df.collect()  # 데이터 수집\n",
    "    combined_df.write_parquet(f\"{output_dir}/train.parquet\", compression=\"snappy\")\n",
    "    \n",
    "    # 메모리 정리\n",
    "    del combined_df\n",
    "    gc.collect()\n",
    "\n",
    "# NDJSON 파일을 읽어오기\n",
    "file = Path(\"otto-recsys-train.jsonl\")\n",
    "\n",
    "# Parquet 파일로 저장할 디렉토리 설정\n",
    "output_dir = \"working\"\n",
    "Path(output_dir).mkdir(exist_ok=True)\n",
    "\n",
    "# Parquet 파일로 저장\n",
    "%time transform_and_save_to_parquet(file, output_dir)"
   ]
  },
  {
   "cell_type": "code",
   "execution_count": 4,
   "id": "4963b666-472b-492d-bd83-012428c2ead2",
   "metadata": {},
   "outputs": [],
   "source": [
    "train_df = pl.read_parquet(\"working/train.parquet\")"
   ]
  },
  {
   "cell_type": "code",
   "execution_count": 5,
   "id": "905d0f1a-4357-43fc-9661-35928e0ced0a",
   "metadata": {},
   "outputs": [
    {
     "data": {
      "text/html": [
       "<div>\n",
       "<style scoped>\n",
       "    .dataframe tbody tr th:only-of-type {\n",
       "        vertical-align: middle;\n",
       "    }\n",
       "\n",
       "    .dataframe tbody tr th {\n",
       "        vertical-align: top;\n",
       "    }\n",
       "\n",
       "    .dataframe thead th {\n",
       "        text-align: right;\n",
       "    }\n",
       "</style>\n",
       "<table border=\"1\" class=\"dataframe\">\n",
       "  <thead>\n",
       "    <tr style=\"text-align: right;\">\n",
       "      <th></th>\n",
       "      <th>session</th>\n",
       "      <th>aid</th>\n",
       "      <th>ts</th>\n",
       "      <th>type</th>\n",
       "    </tr>\n",
       "  </thead>\n",
       "  <tbody>\n",
       "    <tr>\n",
       "      <th>0</th>\n",
       "      <td>0</td>\n",
       "      <td>1517085</td>\n",
       "      <td>1659304800</td>\n",
       "      <td>0</td>\n",
       "    </tr>\n",
       "    <tr>\n",
       "      <th>1</th>\n",
       "      <td>0</td>\n",
       "      <td>1563459</td>\n",
       "      <td>1659304904</td>\n",
       "      <td>0</td>\n",
       "    </tr>\n",
       "    <tr>\n",
       "      <th>2</th>\n",
       "      <td>0</td>\n",
       "      <td>1309446</td>\n",
       "      <td>1659367439</td>\n",
       "      <td>0</td>\n",
       "    </tr>\n",
       "    <tr>\n",
       "      <th>3</th>\n",
       "      <td>0</td>\n",
       "      <td>16246</td>\n",
       "      <td>1659367719</td>\n",
       "      <td>0</td>\n",
       "    </tr>\n",
       "    <tr>\n",
       "      <th>4</th>\n",
       "      <td>0</td>\n",
       "      <td>1781822</td>\n",
       "      <td>1659367871</td>\n",
       "      <td>0</td>\n",
       "    </tr>\n",
       "  </tbody>\n",
       "</table>\n",
       "</div>"
      ],
      "text/plain": [
       "   session      aid          ts  type\n",
       "0        0  1517085  1659304800     0\n",
       "1        0  1563459  1659304904     0\n",
       "2        0  1309446  1659367439     0\n",
       "3        0    16246  1659367719     0\n",
       "4        0  1781822  1659367871     0"
      ]
     },
     "execution_count": 5,
     "metadata": {},
     "output_type": "execute_result"
    }
   ],
   "source": [
    "train = train_df.to_pandas()\n",
    "train.head()\n"
   ]
  },
  {
   "cell_type": "code",
   "execution_count": null,
   "id": "02c04134-c683-4a81-8b25-e9b2db1fb9b3",
   "metadata": {},
   "outputs": [],
   "source": []
  }
 ],
 "metadata": {
  "kernelspec": {
   "display_name": "Python 3 (ipykernel)",
   "language": "python",
   "name": "python3"
  },
  "language_info": {
   "codemirror_mode": {
    "name": "ipython",
    "version": 3
   },
   "file_extension": ".py",
   "mimetype": "text/x-python",
   "name": "python",
   "nbconvert_exporter": "python",
   "pygments_lexer": "ipython3",
   "version": "3.10.15"
  }
 },
 "nbformat": 4,
 "nbformat_minor": 5
}
