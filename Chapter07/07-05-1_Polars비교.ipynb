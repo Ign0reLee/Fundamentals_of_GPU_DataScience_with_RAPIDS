{
 "cells": [
  {
   "cell_type": "markdown",
   "id": "698ad95a-326f-49c2-b6f1-fe1ef838fe70",
   "metadata": {},
   "source": [
    "# Compare all of CPU/GPU/Multi-GPU DataFrame\n",
    "---\n",
    "\n",
    "I am an NVIDIA DLI Amabbassador for the \"Fundamentals of Accelerated Data Science\" and \"Accelerating Data Engineering Pipelines\" courses, representing South Korea at the Catholic University of Korea.\n",
    "\n",
    "Currently, I am studying [RAPIDS](https://rapids.ai/) with [Modulabs](https://modulabs.co.kr/). As part of my work, I am creating tutorials to compare the performance of CPU, GPU, and multi-GPU systems.\n",
    "\n",
    "\n",
    "This [notebook](https://www.kaggle.com/code/cdeotte/compare-cpu-dataframes-to-gpu-dataframes) originally compared only single CPU and GPU performance. I have modified the code to extend the comparisons across most of the RAPIDS ecosystem, providing a broader comparison than the original notebook."
   ]
  },
  {
   "cell_type": "markdown",
   "id": "ccb4946f-211b-4df8-903f-adbab42105ce",
   "metadata": {},
   "source": [
    "## 1. Import and Check Version of Libraries and CPU/GPU version\n",
    "---\n",
    "\n",
    "We are using Pandas Polars, RAPIDS cuDF, Dask, and Dask cuDF"
   ]
  },
  {
   "cell_type": "code",
   "execution_count": 1,
   "id": "643b82bc-b54b-4f67-b388-fa8bc50629e9",
   "metadata": {},
   "outputs": [
    {
     "name": "stdout",
     "output_type": "stream",
     "text": [
      "|=======================================|\n",
      "|         CPU/GPU Compare Code          |\n",
      "|                                       |\n",
      "|                         Python 3.10.15|\n",
      "|=======================================|\n",
      "|             Module|            version|\n",
      "|===================+===================|\n",
      "|             Pandas|              2.2.2|\n",
      "+-------------------+-------------------+\n",
      "|             Polars|              1.8.2|\n",
      "+-------------------+-------------------+\n",
      "|               cuDF|           24.10.01|\n",
      "+-------------------+-------------------+\n",
      "|               DASK|           2024.9.0|\n",
      "+-------------------+-------------------+\n",
      "|           DASK GPU|           24.10.01|\n",
      "|=======================================|\n"
     ]
    }
   ],
   "source": [
    "import os\n",
    "import time\n",
    "os.environ[\"CUDA_VISIBLE_DEVICES\"] = \"0\"\n",
    "import platform\n",
    "\n",
    "import cupy as cp\n",
    "\n",
    "import dask\n",
    "import pandas as pd, polars as pl, cudf, dask.dataframe as ddf,dask_cudf as dd\n",
    "import numpy as np, time\n",
    "import matplotlib.pyplot as plt\n",
    "from matplotlib.ticker import FuncFormatter\n",
    "\n",
    "head_line  = f\"|{'='*39}|\"\n",
    "subhead_line = f\"|{'='*19}+{'='*19}|\"\n",
    "split_line = f\"+{'-'*19}+{'-'*19}+\"\n",
    "blank_line = f\"|{' '*39}|\"\n",
    "\n",
    "print(head_line)\n",
    "print(f\"|{'CPU/GPU Compare Code':^39}|\")\n",
    "print(blank_line)\n",
    "print(f'|{\"Python \" +platform.python_version():>39}|')\n",
    "print(head_line)\n",
    "\n",
    "print(f\"|{'Module':>19}|{'version':>19}|\")\n",
    "print(subhead_line)\n",
    "\n",
    "\n",
    "print(f\"|{'Pandas':>19}|{pd.__version__:>19}|\")\n",
    "print(split_line)\n",
    "\n",
    "print(f\"|{'Polars':>19}|{pl.__version__:>19}|\")\n",
    "print(split_line)\n",
    "\n",
    "print(f\"|{'cuDF':>19}|{cudf.__version__:>19}|\")\n",
    "print(split_line)\n",
    "\n",
    "print(f\"|{'DASK':>19}|{dask.__version__:>19}|\")\n",
    "print(split_line)\n",
    "\n",
    "print(f\"|{'DASK GPU':>19}|{dd.__version__:>19}|\")\n",
    "print(head_line)\n",
    "  "
   ]
  },
  {
   "cell_type": "markdown",
   "id": "f0be1280-ee72-4a51-8b9b-c36666d9c544",
   "metadata": {},
   "source": [
    "## 2. Displaying CPU/GPU info\n",
    "---"
   ]
  },
  {
   "cell_type": "code",
   "execution_count": 2,
   "id": "f1c67e15-4a2c-4d0a-bdc3-7e16df45f5b4",
   "metadata": {},
   "outputs": [
    {
     "name": "stdout",
     "output_type": "stream",
     "text": [
      "Architecture:                         x86_64\n",
      "CPU op-mode(s):                       32-bit, 64-bit\n",
      "Byte Order:                           Little Endian\n",
      "Address sizes:                        43 bits physical, 48 bits virtual\n",
      "CPU(s):                               16\n",
      "On-line CPU(s) list:                  0-15\n",
      "Thread(s) per core:                   2\n",
      "Core(s) per socket:                   8\n"
     ]
    }
   ],
   "source": [
    "!lscpu | head -n 8"
   ]
  },
  {
   "cell_type": "code",
   "execution_count": 3,
   "id": "551b0709-f6b4-4b39-b643-02bc62e92db6",
   "metadata": {},
   "outputs": [
    {
     "name": "stdout",
     "output_type": "stream",
     "text": [
      "Wed Dec  4 14:50:12 2024       \n",
      "+-----------------------------------------------------------------------------------------+\n",
      "| NVIDIA-SMI 550.90.07              Driver Version: 550.90.07      CUDA Version: 12.4     |\n",
      "|-----------------------------------------+------------------------+----------------------+\n",
      "| GPU  Name                 Persistence-M | Bus-Id          Disp.A | Volatile Uncorr. ECC |\n",
      "| Fan  Temp   Perf          Pwr:Usage/Cap |           Memory-Usage | GPU-Util  Compute M. |\n",
      "|                                         |                        |               MIG M. |\n",
      "|=========================================+========================+======================|\n",
      "|   0  NVIDIA GeForce RTX 2080 ...    Off |   00000000:05:00.0 Off |                  N/A |\n",
      "|  0%   44C    P8             15W /  250W |      14MiB /   8192MiB |      0%      Default |\n",
      "|                                         |                        |                  N/A |\n",
      "+-----------------------------------------+------------------------+----------------------+\n",
      "|   1  NVIDIA GeForce RTX 2080 ...    Off |   00000000:06:00.0  On |                  N/A |\n",
      "|  0%   52C    P8             22W /  250W |    1147MiB /   8192MiB |      5%      Default |\n",
      "|                                         |                        |                  N/A |\n",
      "+-----------------------------------------+------------------------+----------------------+\n"
     ]
    }
   ],
   "source": [
    "!nvidia-smi | head -n 16"
   ]
  },
  {
   "cell_type": "markdown",
   "id": "8832dde5-85b3-4ab2-b502-377a7952a4b5",
   "metadata": {},
   "source": [
    "## 2. Make Test Dataset\n",
    "---\n",
    "\n",
    "We create massive datasets to perform comparisons, especially focusing on the differences between the .csv and .parquet file formats.\n",
    "\n",
    "The .parquet format is generally more efficient for data storage because it supports compression, which significantly reduces file size. Additionally, .parquet stores data in a columnar format, making it particularly well-suited for tasks such as data aggregation.\n",
    "\n",
    "However, .parquet files are immutable and not human-readable, which can be a limitation depending on your use case.\n",
    "\n",
    "When selecting a data file format, it is important to consider the nature of your tasks. For example, if you are performing feature engineering, the .parquet format may offer better efficiency due to its columnar storage structure and compression capabilities."
   ]
  },
  {
   "cell_type": "code",
   "execution_count": 4,
   "id": "49005d37-6817-4633-a177-d14b5ec24e23",
   "metadata": {},
   "outputs": [],
   "source": [
    "import os\n",
    "\n",
    "PATH = os.path.join(\"..\", \"data\", \"toy\")\n",
    "os.makedirs(PATH, exist_ok=True)"
   ]
  },
  {
   "cell_type": "code",
   "execution_count": 5,
   "id": "94e3d125-7866-483d-9a73-b14e3a3599f5",
   "metadata": {},
   "outputs": [],
   "source": [
    "import random, string\n",
    "\n",
    "def make_dataframes(seed=0, n_rows=200_000_00, verbose=False):\n",
    "    \n",
    "    cp.random.seed(seed)    \n",
    "    data = {\n",
    "        'col1': cp.random.rand(n_rows).astype('float32'),\n",
    "        'col2': cp.random.rand(n_rows).astype('float32'),\n",
    "        'col3': cp.random.randint(0, 10, n_rows).astype('int'),\n",
    "        'col4': cp.random.rand(n_rows).astype('float32'), \n",
    "    }\n",
    "\n",
    "    #Make Data Frame    \n",
    "    df_pandas = cudf.DataFrame(data)\n",
    "    return df_pandas"
   ]
  },
  {
   "cell_type": "code",
   "execution_count": 6,
   "id": "ff727665-9bd5-4615-98f8-f1965388c7b5",
   "metadata": {},
   "outputs": [],
   "source": [
    "make_dataframes(1_000_00).to_csv(os.path.join(PATH, \"numbers.csv\"))\n",
    "make_dataframes(10_000_00).to_csv(os.path.join(PATH, \"numbers2.csv\"))\n",
    "make_dataframes(100_000_00).to_csv(os.path.join(PATH, \"numbers3.csv\"))\n",
    "make_dataframes(200_000_00).to_csv(os.path.join(PATH, \"numbers4.csv\"))"
   ]
  },
  {
   "cell_type": "code",
   "execution_count": 7,
   "id": "f66d6cdf-8503-45d7-b511-3e0814190640",
   "metadata": {},
   "outputs": [
    {
     "name": "stdout",
     "output_type": "stream",
     "text": [
      "합계 4.1G\n",
      "-rw-rw-r-- 1 cvmi_jeyoung cvmi_jeyoung 880M 12월  4 14:50 numbers.csv\n",
      "-rw-rw-r-- 1 cvmi_jeyoung cvmi_jeyoung 610M 11월 29 14:35 numbers.parquet\n",
      "-rw-rw-r-- 1 cvmi_jeyoung cvmi_jeyoung 880M 12월  4 14:50 numbers2.csv\n",
      "-rw-rw-r-- 1 cvmi_jeyoung cvmi_jeyoung 880M 12월  4 14:50 numbers3.csv\n",
      "-rw-rw-r-- 1 cvmi_jeyoung cvmi_jeyoung 880M 12월  4 14:50 numbers4.csv\n"
     ]
    }
   ],
   "source": [
    "!ls -lh {PATH}"
   ]
  },
  {
   "cell_type": "markdown",
   "id": "f0d5a88d-3b8f-4c64-bb54-41e41ae5bcf6",
   "metadata": {},
   "source": [
    "## 3. Make Timer and Plot\n",
    "---\n"
   ]
  },
  {
   "cell_type": "markdown",
   "id": "52988a58-201d-461c-bb45-613aa724409f",
   "metadata": {},
   "source": [
    "## 4. Read dataframe test\n",
    "---\n",
    "\n",
    "In this test, we utilize .read_csv() \n",
    "\n",
    "Generally, the .parquet format demonstrates more efficient reading performance on GPUs."
   ]
  },
  {
   "cell_type": "code",
   "execution_count": 8,
   "id": "753145f9-3317-41e6-9f68-6d489cf9efa1",
   "metadata": {},
   "outputs": [],
   "source": [
    "def pandas_read_csv(path):\n",
    "    return pd.read_csv(path, usecols=['col1', 'col2', 'col3', 'col4'])\n",
    "\n",
    "def cudf_read_csv(path):\n",
    "    return cudf.read_csv(path, usecols=['col1', 'col2', 'col3', 'col4'])\n",
    "\n",
    "def polars_read_csv(path):\n",
    "    pdf = pl.scan_csv(path).select(['col1', 'col2', 'col3', 'col4'])\n",
    "    return pdf.collect()\n",
    "\n",
    "def polars_gpu_read_csv(path):\n",
    "    pdf = pl.scan_csv(path).select(['col1', 'col2', 'col3', 'col4'])\n",
    "    return pdf.collect(engine=\"gpu\")\n",
    "\n",
    "def dask_read_csv(path):\n",
    "    cdf = ddf.read_csv(path, usecols=['col1', 'col2', 'col3', 'col4'])\n",
    "    return cdf.persist()\n",
    "\n",
    "def dask_gpu_read_csv(path):\n",
    "    gdf = dd.read_csv(path, usecols=['col1', 'col2', 'col3', 'col4'])\n",
    "    return gdf.persist()\n"
   ]
  },
  {
   "cell_type": "markdown",
   "id": "5c48b5b0-84f7-480d-9121-fa70498cccf5",
   "metadata": {},
   "source": [
    "## 5. join dataframe test "
   ]
  },
  {
   "cell_type": "code",
   "execution_count": 9,
   "id": "d6fc2ec1-ff78-4bd7-acc8-4f86781cd853",
   "metadata": {},
   "outputs": [],
   "source": [
    "def pandas_join(df):\n",
    "    return df.merge(df, on='col4')\n",
    "\n",
    "def cudf_join(df):\n",
    "    return df.merge(df, on='col4')\n",
    "\n",
    "def polars_join(df):\n",
    "    df = df.lazy()\n",
    "    pdf = (df\n",
    "           .join(df, on='col4')\n",
    "      )\n",
    "    pdf.collect()\n",
    "\n",
    "def polars_gpu_join(df):\n",
    "    df = df.lazy()\n",
    "    pdf = (df\n",
    "           .join(df, on='col4')\n",
    "      )\n",
    "    pdf.collect(engine=\"gpu\")\n",
    "\n",
    "def dask_join(df):\n",
    "    cdf = df.merge(df, on='col4').compute()\n",
    "\n",
    "def dask_gpu_join(df):\n",
    "    gdf = df.merge(df, on='col4').compute()"
   ]
  },
  {
   "cell_type": "markdown",
   "id": "c332365a-44bb-459f-a61d-238c32fa7e16",
   "metadata": {},
   "source": [
    "## 6.Groupby_mean"
   ]
  },
  {
   "cell_type": "code",
   "execution_count": 10,
   "id": "62d2c495-f00e-4c67-8e24-95e29e74b49a",
   "metadata": {},
   "outputs": [],
   "source": [
    "def pandas_groupby_mean(df):\n",
    "    return df.groupby('col3')['col1'].mean()\n",
    "\n",
    "def cudf_groupby_mean(df):\n",
    "    df.groupby('col3')['col1'].mean()\n",
    "\n",
    "def polars_groupby_mean(df):\n",
    "    df  = df.lazy()\n",
    "    pdf = (df\n",
    "           .group_by('col3')\n",
    "           .agg(pl.col('col1'))\n",
    "           .mean()\n",
    "      )\n",
    "    pdf.collect()\n",
    "\n",
    "def polars_gpu_groupby_mean(df):\n",
    "    df = df.lazy()\n",
    "    pdf = (df\n",
    "           .group_by('col3')\n",
    "           .agg(pl.col('col1'))\n",
    "           .mean()\n",
    "      )\n",
    "    pdf.collect(engine=\"gpu\")\n",
    "\n",
    "def dask_groupby_mean(df):\n",
    "    df.compute().groupby('col3')['col1'].mean()\n",
    "\n",
    "def dask_gpu_groupby_mean(df):\n",
    "    df.compute().groupby('col3')['col1'].mean()"
   ]
  },
  {
   "cell_type": "markdown",
   "id": "6bca224b-1a37-452e-a1e9-fdfc4d6c605b",
   "metadata": {},
   "source": [
    "## 7.Filter Test"
   ]
  },
  {
   "cell_type": "code",
   "execution_count": 11,
   "id": "124d2f8e-61b5-4527-84f0-68c3f7415d4e",
   "metadata": {},
   "outputs": [],
   "source": [
    "def pandas_filter(df):\n",
    "    df[ (df['col1'] > 0.5) & (df['col2'] > 0.5) ]\n",
    "\n",
    "def cudf_filter(df):\n",
    "    df[ (df['col1'] > 0.5) & (df['col2'] > 0.5) ]\n",
    "\n",
    "def polars_filter(df):\n",
    "    df  = df.lazy()\n",
    "    pdf = (df\n",
    "           .filter(pl.col(\"col1\") > 0.5)\n",
    "           .filter(pl.col(\"col2\") > 0.5)\n",
    "      )\n",
    "    pdf.collect()\n",
    "\n",
    "def polars_gpu_filter(df):\n",
    "    df = df.lazy()\n",
    "    pdf = (df\n",
    "           .filter(pl.col(\"col1\") > 0.5)\n",
    "           .filter(pl.col(\"col2\") > 0.5)\n",
    "      )\n",
    "    pdf.collect(engine=\"gpu\")\n",
    "\n",
    "def dask_filter(df):\n",
    "    df[ (df['col1'] > 0.5) & (df['col2'] > 0.5) ].compute()\n",
    "\n",
    "def dask_gpu_filter(df):\n",
    "    df[ (df['col1'] > 0.5) & (df['col2'] > 0.5) ].compute()"
   ]
  },
  {
   "cell_type": "markdown",
   "id": "0189ab31-640c-454f-819c-bee1319cf352",
   "metadata": {},
   "source": [
    "# 8. Sort Test"
   ]
  },
  {
   "cell_type": "code",
   "execution_count": 12,
   "id": "c88f9f26-3032-4bba-8a6f-f86975843d06",
   "metadata": {},
   "outputs": [],
   "source": [
    "def pandas_sort(df):\n",
    "    df.sort_values([\"col1\"])\n",
    "\n",
    "def cudf_sort(df):\n",
    "    df.sort_values([\"col1\"])\n",
    "\n",
    "def polars_sort(df):\n",
    "    df  = df.lazy()\n",
    "    pdf = (df\n",
    "           .sort(\"col1\")\n",
    "      )\n",
    "    pdf.collect()\n",
    "\n",
    "def polars_gpu_sort(df):\n",
    "    df = df.lazy()\n",
    "    pdf = (df\n",
    "           .sort(\"col1\")\n",
    "      )\n",
    "    pdf.collect(engine=\"gpu\")\n",
    "\n",
    "def dask_sort(df):\n",
    "    df.sort_values([\"col1\"]).compute()\n",
    "\n",
    "def dask_gpu_sort(df):\n",
    "    df.sort_values([\"col1\"]).compute()"
   ]
  },
  {
   "cell_type": "markdown",
   "id": "73fb241d-e4c1-4d32-9c73-db6baeb176fc",
   "metadata": {},
   "source": [
    "## Main Code\n",
    "---"
   ]
  },
  {
   "cell_type": "code",
   "execution_count": 13,
   "id": "f099cf33-5d67-44c8-b217-b93b3908b8c9",
   "metadata": {},
   "outputs": [],
   "source": [
    "def plot_graph(data, n_rows):\n",
    "    global test_libs, test_func\n",
    "    num_groups = len(data)\n",
    "    bar_width = 0.25\n",
    "    space_between_groups = 1  \n",
    "    x_pos = np.arange(num_groups) * (bar_width * int(num_groups//2 + 1)+ space_between_groups)  # X positions for groups\n",
    "    fig, ax = plt.subplots(figsize=(12, 3))\n",
    "    for i,libs in enumerate(test_libs[:-1]):\n",
    "        label = f\"cuDF vs {libs}\"\n",
    "        bars = ax.bar(x_pos + i * bar_width, [ row[i]/row[-1] for row in data], width=bar_width, label=label)\n",
    "        \n",
    "        for j,bar in enumerate(bars):\n",
    "            height = bar.get_height()\n",
    "            ax.text(bar.get_x() + (bar.get_width() / 2), height, f'{height:.1f}x', \n",
    "                    ha='center', va='bottom', fontsize=10)\n",
    "    \n",
    "    ax.set_ylabel('Speed Up Factor')\n",
    "    ax.set_title(f'RAPIDS cuDF Speed Up versus Pandas and Polars (with {n_rows:.1e} rows dataframe)')\n",
    "    ax.set_xticks(x_pos + int(num_groups//2) * bar_width)\n",
    "    ax.set_xticklabels([f\"{t}\" for t in test_funcs[:int(num_groups)]])\n",
    "    ax.legend()\n",
    "    plt.tight_layout()\n",
    "    plt.show()"
   ]
  },
  {
   "cell_type": "code",
   "execution_count": 14,
   "id": "83e80452-69f2-47ac-a2b3-d4c8d104fa79",
   "metadata": {},
   "outputs": [],
   "source": [
    "ITERS = 10\n",
    "all_result = []\n",
    "test_libs = ['pandas', 'polars', 'polars_gpu', 'dask', 'dask_gpu','cudf']\n",
    "test_funcs = ['read_csv', 'join', 'groupby_mean', 'filter', 'sort' ]\n",
    "\n",
    "def make_results(data_path):\n",
    "    results      = []\n",
    "    for test_name in test_libs:\n",
    "        \n",
    "        test_results = []\n",
    "        ##################\n",
    "        # Read csv test\n",
    "        ##################\n",
    "        func = globals()[f\"{test_name}_read_csv\"]\n",
    "        start   = time.time()      # Calc Start      \n",
    "        for i in range(ITERS):\n",
    "            rf = func(data_path)\n",
    "        \n",
    "        end     = time.time()      # Calc End..\n",
    "        elapsed = (end-start)/ITERS\n",
    "        test_results.append(elapsed)\n",
    "        \n",
    "        print(f\"Now {test_name} testing... Average Data Read time : {elapsed:.4f}\")\n",
    "        ###################\n",
    "        # Other Function test\n",
    "        ###################\n",
    "        for test_func in test_funcs[1:]:\n",
    "            func = globals()[f\"{test_name}_{test_func}\"]\n",
    "            start   = time.time()      # Calc Start      \n",
    "            for i in range(ITERS):\n",
    "                func(rf)            \n",
    "            end     = time.time()      # Calc End..\n",
    "            elapsed = (end-start)/ITERS\n",
    "            test_results.append(elapsed)            \n",
    "                \n",
    "        results.append(test_results)\n",
    "    results = np.array(results).T\n",
    "    return results"
   ]
  },
  {
   "cell_type": "markdown",
   "id": "d470c395-82cf-4a6d-974a-eb81e518a2b7",
   "metadata": {},
   "source": [
    "# Test 1_000_00 Sample"
   ]
  },
  {
   "cell_type": "code",
   "execution_count": null,
   "id": "a9c35b2b-8e84-4246-a353-1c4a9468a2cf",
   "metadata": {},
   "outputs": [
    {
     "name": "stdout",
     "output_type": "stream",
     "text": [
      "Now pandas testing... Average Data Read time : 4.3987\n"
     ]
    }
   ],
   "source": [
    "data_path = os.path.join(PATH, \"numbers.csv\")\n",
    "results = make_results(data_path)\n",
    "plot_graph(results, 1_000_00)\n",
    "all_result.append(results)"
   ]
  },
  {
   "cell_type": "markdown",
   "id": "0f9e14b7-fcaf-4ace-bcc3-4e265660948d",
   "metadata": {},
   "source": [
    "# Test 10_000_00 Sample"
   ]
  },
  {
   "cell_type": "code",
   "execution_count": null,
   "id": "8a4b1cac-c217-48d3-b832-e4478bcc2b5c",
   "metadata": {},
   "outputs": [],
   "source": [
    "data_path = os.path.join(PATH, \"numbers2.csv\")\n",
    "results = make_results(data_path)\n",
    "plot_graph(results, 10_000_00)\n",
    "all_result.append(results)"
   ]
  },
  {
   "cell_type": "markdown",
   "id": "b411905a-d5bf-4735-ac86-2b3be9678fba",
   "metadata": {},
   "source": [
    "# Test 100_00_000 Sample"
   ]
  },
  {
   "cell_type": "code",
   "execution_count": null,
   "id": "c5061093-2c78-49cc-b0f1-c2077fa61c3b",
   "metadata": {},
   "outputs": [],
   "source": [
    "\n",
    "data_path = os.path.join(PATH, \"numbers3.csv\")\n",
    "results = make_results(data_path)\n",
    "plot_graph(results, 100_000_00)\n",
    "all_result.append(results)"
   ]
  },
  {
   "cell_type": "markdown",
   "id": "5ef738f7-8387-4ca8-ac30-48c57c525605",
   "metadata": {},
   "source": [
    "# Test  200_00_000 Sample"
   ]
  },
  {
   "cell_type": "code",
   "execution_count": null,
   "id": "b52e9772-17d8-41f5-93cb-1eee02dd9339",
   "metadata": {},
   "outputs": [],
   "source": [
    "\n",
    "data_path = os.path.join(PATH, \"numbers4.csv\")\n",
    "results = make_results(data_path)\n",
    "plot_graph(results, 200_000_00)\n",
    "all_result.append(results)"
   ]
  },
  {
   "cell_type": "code",
   "execution_count": null,
   "id": "9ad5ed04-0552-4fcd-9774-5e8e166d01fd",
   "metadata": {},
   "outputs": [],
   "source": [
    "np.mean((np.array(all_result)[..., :5] / np.array(all_result)[..., -1:]).transpose(0, 2, 1)[..., 1:], axis=-1)"
   ]
  },
  {
   "cell_type": "code",
   "execution_count": null,
   "id": "672775b3-c500-4abb-ad71-eb4e7c23bb11",
   "metadata": {},
   "outputs": [],
   "source": [
    "(np.array(all_result)[..., :5] / np.array(all_result)[..., -1:]).transpose(0, 2, 1)"
   ]
  },
  {
   "cell_type": "code",
   "execution_count": null,
   "id": "632bdbc5-7ded-4ae6-9909-d5684944fa27",
   "metadata": {},
   "outputs": [],
   "source": [
    "n_rows = [1_000_00, 10_000_00, 100_000_00, 200_000_00]\n",
    "x      = []\n",
    "\n",
    "for r, n in zip(all_result, n_rows):\n",
    "    x.append(n)"
   ]
  },
  {
   "cell_type": "code",
   "execution_count": null,
   "id": "5455a50e-dfce-420f-b6b9-53d60d86386c",
   "metadata": {},
   "outputs": [],
   "source": [
    "np.median([97.6, 162.7, 16.3, 35.9, 33.2, 175.5])"
   ]
  },
  {
   "cell_type": "code",
   "execution_count": null,
   "id": "2dabfe5d-8e27-48ff-997d-a7683195f052",
   "metadata": {},
   "outputs": [],
   "source": [
    "np.median([4.99309857,  84.16337073,  13.95006752,  14.72616788,13.49099544, 175.5])"
   ]
  }
 ],
 "metadata": {
  "kernelspec": {
   "display_name": "Python 3 (ipykernel)",
   "language": "python",
   "name": "python3"
  },
  "language_info": {
   "codemirror_mode": {
    "name": "ipython",
    "version": 3
   },
   "file_extension": ".py",
   "mimetype": "text/x-python",
   "name": "python",
   "nbconvert_exporter": "python",
   "pygments_lexer": "ipython3",
   "version": "3.10.15"
  }
 },
 "nbformat": 4,
 "nbformat_minor": 5
}
