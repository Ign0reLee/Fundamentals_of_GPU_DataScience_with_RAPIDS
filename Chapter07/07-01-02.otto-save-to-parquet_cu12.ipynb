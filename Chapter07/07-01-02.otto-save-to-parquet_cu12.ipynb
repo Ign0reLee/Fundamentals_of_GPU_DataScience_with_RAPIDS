{
 "cells": [
  {
   "cell_type": "code",
   "execution_count": 1,
   "id": "0cd0ed63",
   "metadata": {
    "execution": {
     "iopub.execute_input": "2024-10-15T16:14:15.600768Z",
     "iopub.status.busy": "2024-10-15T16:14:15.600233Z",
     "iopub.status.idle": "2024-10-15T16:14:16.613408Z",
     "shell.execute_reply": "2024-10-15T16:14:16.612406Z"
    },
    "papermill": {
     "duration": 1.02003,
     "end_time": "2024-10-15T16:14:16.615540",
     "exception": false,
     "start_time": "2024-10-15T16:14:15.595510",
     "status": "completed"
    },
    "tags": []
   },
   "outputs": [
    {
     "name": "stdout",
     "output_type": "stream",
     "text": [
      "nvcc: NVIDIA (R) Cuda compiler driver\r\n",
      "Copyright (c) 2005-2023 NVIDIA Corporation\r\n",
      "Built on Wed_Nov_22_10:17:15_PST_2023\r\n",
      "Cuda compilation tools, release 12.3, V12.3.107\r\n",
      "Build cuda_12.3.r12.3/compiler.33567101_0\r\n"
     ]
    }
   ],
   "source": [
    "!nvcc -V"
   ]
  },
  {
   "cell_type": "code",
   "execution_count": 2,
   "id": "ca5f7969",
   "metadata": {
    "_cell_guid": "b1076dfc-b9ad-4769-8c92-a6c4dae69d19",
    "_uuid": "8f2839f25d086af736a60e9eeb907d3b93b6e0e5",
    "execution": {
     "iopub.execute_input": "2024-10-15T16:14:16.623559Z",
     "iopub.status.busy": "2024-10-15T16:14:16.623259Z",
     "iopub.status.idle": "2024-10-15T16:14:54.055165Z",
     "shell.execute_reply": "2024-10-15T16:14:54.054212Z"
    },
    "papermill": {
     "duration": 37.438518,
     "end_time": "2024-10-15T16:14:54.057584",
     "exception": false,
     "start_time": "2024-10-15T16:14:16.619066",
     "status": "completed"
    },
    "tags": []
   },
   "outputs": [
    {
     "name": "stdout",
     "output_type": "stream",
     "text": [
      "Looking in indexes: https://pypi.org/simple, https://pypi.nvidia.com\r\n",
      "Requirement already satisfied: polars[gpu] in /opt/conda/lib/python3.10/site-packages (1.9.0)\r\n",
      "Collecting cudf-polars-cu12 (from polars[gpu])\r\n",
      "  Downloading https://pypi.nvidia.com/cudf-polars-cu12/cudf_polars_cu12-24.10.1-py3-none-any.whl (53 kB)\r\n",
      "\u001b[2K     \u001b[90m━━━━━━━━━━━━━━━━━━━━━━━━━━━━━━━━━━━━━━━━\u001b[0m \u001b[32m53.4/53.4 kB\u001b[0m \u001b[31m3.1 MB/s\u001b[0m eta \u001b[36m0:00:00\u001b[0m\r\n",
      "\u001b[?25hINFO: pip is looking at multiple versions of cudf-polars-cu12 to determine which version is compatible with other requirements. This could take a while.\r\n",
      "  Downloading https://pypi.nvidia.com/cudf-polars-cu12/cudf_polars_cu12-24.8.3-py3-none-any.whl (53 kB)\r\n",
      "\u001b[2K     \u001b[90m━━━━━━━━━━━━━━━━━━━━━━━━━━━━━━━━━━━━━━━━\u001b[0m \u001b[32m53.8/53.8 kB\u001b[0m \u001b[31m3.1 MB/s\u001b[0m eta \u001b[36m0:00:00\u001b[0m\r\n",
      "\u001b[?25hCollecting cudf-cu12==24.8.* (from cudf-polars-cu12->polars[gpu])\r\n",
      "  Downloading https://pypi.nvidia.com/cudf-cu12/cudf_cu12-24.8.3-cp310-cp310-manylinux_2_28_x86_64.whl (517.8 MB)\r\n",
      "\u001b[2K     \u001b[90m━━━━━━━━━━━━━━━━━━━━━━━━━━━━━━━━━━━━━━━\u001b[0m \u001b[32m517.8/517.8 MB\u001b[0m \u001b[31m2.9 MB/s\u001b[0m eta \u001b[36m0:00:00\u001b[0m\r\n",
      "\u001b[?25hRequirement already satisfied: cachetools in /opt/conda/lib/python3.10/site-packages (from cudf-cu12==24.8.*->cudf-polars-cu12->polars[gpu]) (4.2.4)\r\n",
      "Requirement already satisfied: cuda-python<13.0a0,>=12.0 in /opt/conda/lib/python3.10/site-packages (from cudf-cu12==24.8.*->cudf-polars-cu12->polars[gpu]) (12.6.0)\r\n",
      "Collecting cupy-cuda12x>=12.0.0 (from cudf-cu12==24.8.*->cudf-polars-cu12->polars[gpu])\r\n",
      "  Downloading cupy_cuda12x-13.3.0-cp310-cp310-manylinux2014_x86_64.whl.metadata (2.7 kB)\r\n",
      "Requirement already satisfied: fsspec>=0.6.0 in /opt/conda/lib/python3.10/site-packages (from cudf-cu12==24.8.*->cudf-polars-cu12->polars[gpu]) (2024.6.1)\r\n",
      "Requirement already satisfied: numba>=0.57 in /opt/conda/lib/python3.10/site-packages (from cudf-cu12==24.8.*->cudf-polars-cu12->polars[gpu]) (0.60.0)\r\n",
      "Requirement already satisfied: numpy<2.0a0,>=1.23 in /opt/conda/lib/python3.10/site-packages (from cudf-cu12==24.8.*->cudf-polars-cu12->polars[gpu]) (1.26.4)\r\n",
      "Requirement already satisfied: nvtx>=0.2.1 in /opt/conda/lib/python3.10/site-packages (from cudf-cu12==24.8.*->cudf-polars-cu12->polars[gpu]) (0.2.10)\r\n",
      "Requirement already satisfied: packaging in /opt/conda/lib/python3.10/site-packages (from cudf-cu12==24.8.*->cudf-polars-cu12->polars[gpu]) (21.3)\r\n",
      "Requirement already satisfied: pandas<2.2.3dev0,>=2.0 in /opt/conda/lib/python3.10/site-packages (from cudf-cu12==24.8.*->cudf-polars-cu12->polars[gpu]) (2.2.2)\r\n",
      "Requirement already satisfied: pyarrow<16.2.0a0,>=16.1.0 in /opt/conda/lib/python3.10/site-packages (from cudf-cu12==24.8.*->cudf-polars-cu12->polars[gpu]) (16.1.0)\r\n",
      "Requirement already satisfied: pynvjitlink-cu12 in /opt/conda/lib/python3.10/site-packages (from cudf-cu12==24.8.*->cudf-polars-cu12->polars[gpu]) (0.3.0)\r\n",
      "Requirement already satisfied: rich in /opt/conda/lib/python3.10/site-packages (from cudf-cu12==24.8.*->cudf-polars-cu12->polars[gpu]) (13.7.1)\r\n",
      "Collecting rmm-cu12==24.8.* (from cudf-cu12==24.8.*->cudf-polars-cu12->polars[gpu])\r\n",
      "  Downloading https://pypi.nvidia.com/rmm-cu12/rmm_cu12-24.8.2-cp310-cp310-manylinux_2_24_x86_64.manylinux_2_28_x86_64.whl (1.7 MB)\r\n",
      "\u001b[2K     \u001b[90m━━━━━━━━━━━━━━━━━━━━━━━━━━━━━━━━━━━━━━━━\u001b[0m \u001b[32m1.7/1.7 MB\u001b[0m \u001b[31m10.5 MB/s\u001b[0m eta \u001b[36m0:00:00\u001b[0m\r\n",
      "\u001b[?25hRequirement already satisfied: typing_extensions>=4.0.0 in /opt/conda/lib/python3.10/site-packages (from cudf-cu12==24.8.*->cudf-polars-cu12->polars[gpu]) (4.12.2)\r\n",
      "Requirement already satisfied: fastrlock>=0.5 in /opt/conda/lib/python3.10/site-packages (from cupy-cuda12x>=12.0.0->cudf-cu12==24.8.*->cudf-polars-cu12->polars[gpu]) (0.8.2)\r\n",
      "Requirement already satisfied: llvmlite<0.44,>=0.43.0dev0 in /opt/conda/lib/python3.10/site-packages (from numba>=0.57->cudf-cu12==24.8.*->cudf-polars-cu12->polars[gpu]) (0.43.0)\r\n",
      "Requirement already satisfied: python-dateutil>=2.8.2 in /opt/conda/lib/python3.10/site-packages (from pandas<2.2.3dev0,>=2.0->cudf-cu12==24.8.*->cudf-polars-cu12->polars[gpu]) (2.9.0.post0)\r\n",
      "Requirement already satisfied: pytz>=2020.1 in /opt/conda/lib/python3.10/site-packages (from pandas<2.2.3dev0,>=2.0->cudf-cu12==24.8.*->cudf-polars-cu12->polars[gpu]) (2024.1)\r\n",
      "Requirement already satisfied: tzdata>=2022.7 in /opt/conda/lib/python3.10/site-packages (from pandas<2.2.3dev0,>=2.0->cudf-cu12==24.8.*->cudf-polars-cu12->polars[gpu]) (2024.1)\r\n",
      "Requirement already satisfied: pyparsing!=3.0.5,>=2.0.2 in /opt/conda/lib/python3.10/site-packages (from packaging->cudf-cu12==24.8.*->cudf-polars-cu12->polars[gpu]) (3.1.2)\r\n",
      "Requirement already satisfied: markdown-it-py>=2.2.0 in /opt/conda/lib/python3.10/site-packages (from rich->cudf-cu12==24.8.*->cudf-polars-cu12->polars[gpu]) (3.0.0)\r\n",
      "Requirement already satisfied: pygments<3.0.0,>=2.13.0 in /opt/conda/lib/python3.10/site-packages (from rich->cudf-cu12==24.8.*->cudf-polars-cu12->polars[gpu]) (2.18.0)\r\n",
      "Requirement already satisfied: mdurl~=0.1 in /opt/conda/lib/python3.10/site-packages (from markdown-it-py>=2.2.0->rich->cudf-cu12==24.8.*->cudf-polars-cu12->polars[gpu]) (0.1.2)\r\n",
      "Requirement already satisfied: six>=1.5 in /opt/conda/lib/python3.10/site-packages (from python-dateutil>=2.8.2->pandas<2.2.3dev0,>=2.0->cudf-cu12==24.8.*->cudf-polars-cu12->polars[gpu]) (1.16.0)\r\n",
      "Downloading cupy_cuda12x-13.3.0-cp310-cp310-manylinux2014_x86_64.whl (90.6 MB)\r\n",
      "\u001b[2K   \u001b[90m━━━━━━━━━━━━━━━━━━━━━━━━━━━━━━━━━━━━━━━━\u001b[0m \u001b[32m90.6/90.6 MB\u001b[0m \u001b[31m5.6 MB/s\u001b[0m eta \u001b[36m0:00:00\u001b[0m\r\n",
      "\u001b[?25hInstalling collected packages: cupy-cuda12x, rmm-cu12, cudf-cu12, cudf-polars-cu12\r\n",
      "Successfully installed cudf-cu12-24.8.3 cudf-polars-cu12-24.8.3 cupy-cuda12x-13.3.0 rmm-cu12-24.8.2\r\n"
     ]
    }
   ],
   "source": [
    "#!pip install --extra-index-url=https://pypi.nvidia.com polars cudf-polars-cu11\n",
    "!pip install polars[gpu] --extra-index-url=https://pypi.nvidia.com "
   ]
  },
  {
   "cell_type": "code",
   "execution_count": 3,
   "id": "aec6bb18",
   "metadata": {
    "execution": {
     "iopub.execute_input": "2024-10-15T16:14:54.099921Z",
     "iopub.status.busy": "2024-10-15T16:14:54.099199Z",
     "iopub.status.idle": "2024-10-15T16:14:54.399026Z",
     "shell.execute_reply": "2024-10-15T16:14:54.398119Z"
    },
    "papermill": {
     "duration": 0.323306,
     "end_time": "2024-10-15T16:14:54.401317",
     "exception": false,
     "start_time": "2024-10-15T16:14:54.078011",
     "status": "completed"
    },
    "tags": []
   },
   "outputs": [],
   "source": [
    "import polars as pl\n",
    "import json\n",
    "from pathlib import Path\n",
    "import gc"
   ]
  },
  {
   "cell_type": "code",
   "execution_count": 4,
   "id": "dfd3a593",
   "metadata": {
    "execution": {
     "iopub.execute_input": "2024-10-15T16:14:54.442582Z",
     "iopub.status.busy": "2024-10-15T16:14:54.442287Z",
     "iopub.status.idle": "2024-10-15T16:15:14.754743Z",
     "shell.execute_reply": "2024-10-15T16:15:14.753795Z"
    },
    "papermill": {
     "duration": 20.335407,
     "end_time": "2024-10-15T16:15:14.756911",
     "exception": false,
     "start_time": "2024-10-15T16:14:54.421504",
     "status": "completed"
    },
    "tags": []
   },
   "outputs": [
    {
     "name": "stdout",
     "output_type": "stream",
     "text": [
      "CPU times: user 47.8 s, sys: 7.19 s, total: 55 s\n",
      "Wall time: 20.3 s\n"
     ]
    }
   ],
   "source": [
    "def transform_and_save_to_parquet(file, output_dir):\n",
    "    # LazyFrame으로 NDJSON 파일 읽기\n",
    "    df = pl.scan_ndjson(file)\n",
    "        \n",
    "    # 각 세션의 이벤트를 분리하여 2차원 배열 구조로 변환\n",
    "    expanded_df = df.explode(\"events\").select(\n",
    "        pl.col(\"session\"),\n",
    "        pl.col(\"events\").struct.field(\"aid\").alias(\"aid\"),\n",
    "        pl.col(\"events\").struct.field(\"ts\").alias(\"ts\"),\n",
    "        pl.col(\"events\").struct.field(\"type\").alias(\"type\")\n",
    "    )\n",
    "    \n",
    "    # type을 0, 1, 2, 3으로 치환\n",
    "    expanded_df = expanded_df.with_columns(\n",
    "        pl.when(pl.col(\"type\") == \"clicks\").then(0)\n",
    "        .when(pl.col(\"type\") == \"carts\").then(1)\n",
    "        .when(pl.col(\"type\") == \"orders\").then(2)\n",
    "        .otherwise(3).alias(\"type\")\n",
    "    )\n",
    "    \n",
    "    # 데이터 타입 최적화\n",
    "    expanded_df = expanded_df.with_columns([\n",
    "        pl.col(\"session\").cast(pl.UInt32),\n",
    "        pl.col(\"aid\").cast(pl.UInt32),\n",
    "        (pl.col(\"ts\") // 1000).cast(pl.UInt32),     # timestamp를 초 단위로 줄임 (밀리초 -> 초 변환)\n",
    "        pl.col(\"type\").cast(pl.UInt8)\n",
    "    ])\n",
    "    \n",
    "    # LazyFrame 병합 후 Parquet 파일로 저장\n",
    "    combined_df = expanded_df.collect(engine=\"gpu\")  # 데이터 수집\n",
    "    combined_df.write_parquet(f\"{output_dir}/test.parquet\", compression=\"snappy\")\n",
    "    \n",
    "    # 메모리 정리\n",
    "    del combined_df\n",
    "    gc.collect()\n",
    "\n",
    "# NDJSON 파일을 읽어오기\n",
    "file = Path(\"/kaggle/input/recsys-dataset/otto-recsys-test.jsonl\")\n",
    "\n",
    "# Parquet 파일로 저장할 디렉토리 설정\n",
    "output_dir = \"/kaggle/working\"\n",
    "Path(output_dir).mkdir(exist_ok=True)\n",
    "\n",
    "# Parquet 파일로 저장\n",
    "%time transform_and_save_to_parquet(file, output_dir)"
   ]
  },
  {
   "cell_type": "code",
   "execution_count": 5,
   "id": "ab70297b",
   "metadata": {
    "execution": {
     "iopub.execute_input": "2024-10-15T16:15:14.798748Z",
     "iopub.status.busy": "2024-10-15T16:15:14.798345Z",
     "iopub.status.idle": "2024-10-15T16:32:08.871468Z",
     "shell.execute_reply": "2024-10-15T16:32:08.870458Z"
    },
    "papermill": {
     "duration": 1014.124082,
     "end_time": "2024-10-15T16:32:08.901383",
     "exception": false,
     "start_time": "2024-10-15T16:15:14.777301",
     "status": "completed"
    },
    "tags": []
   },
   "outputs": [
    {
     "name": "stdout",
     "output_type": "stream",
     "text": [
      "CPU times: user 15min 48s, sys: 1min 14s, total: 17min 3s\n",
      "Wall time: 16min 54s\n"
     ]
    }
   ],
   "source": [
    "def process_large_ndjson(file, output_dir, chunk_size):\n",
    "    with open(file, 'r') as f:\n",
    "        file_counter = 0\n",
    "\n",
    "        while True:\n",
    "            chunk = []\n",
    "            for _ in range(chunk_size):\n",
    "                line = f.readline()\n",
    "                if not line:\n",
    "                    break\n",
    "                # JSON 파싱\n",
    "                data = json.loads(line.strip())\n",
    "                chunk.append(data)\n",
    "\n",
    "            if not chunk:\n",
    "                break\n",
    "\n",
    "            df = pl.DataFrame(chunk)\n",
    "            expanded_df = df.explode(\"events\").select(\n",
    "                pl.col(\"session\"),\n",
    "                pl.col(\"events\").struct.field(\"aid\").alias(\"aid\"),\n",
    "                pl.col(\"events\").struct.field(\"ts\").alias(\"ts\"),\n",
    "                pl.col(\"events\").struct.field(\"type\").alias(\"type\")\n",
    "            )\n",
    "\n",
    "            # 이벤트 type 변환 및 데이터 타입 최적화\n",
    "            expanded_df = expanded_df.with_columns([\n",
    "                pl.col(\"session\").cast(pl.UInt32),\n",
    "                pl.col(\"aid\").cast(pl.UInt32),\n",
    "                (pl.col(\"ts\") // 1000).cast(pl.UInt32),     # timestamp를 초 단위로 줄임 (밀리초 -> 초 변환)\n",
    "                pl.when(pl.col(\"type\") == \"clicks\").then(0)\n",
    "                .when(pl.col(\"type\") == \"carts\").then(1)\n",
    "                .when(pl.col(\"type\") == \"orders\").then(2)\n",
    "                .otherwise(3)\n",
    "                .cast(pl.UInt8)\n",
    "                .alias(\"type\")\n",
    "            ])\n",
    "\n",
    "            output_file = Path(output_dir) / f\"transformed_chunk_{file_counter}.parquet\"\n",
    "            expanded_df.write_parquet(output_file, compression=\"snappy\")\n",
    "\n",
    "            del expanded_df\n",
    "            del df\n",
    "            gc.collect()\n",
    "\n",
    "            file_counter += 1\n",
    "\n",
    "# NDJSON 파일을 읽어오기\n",
    "file = Path(\"/kaggle/input/recsys-dataset/otto-recsys-train.jsonl\")\n",
    "\n",
    "# Parquet 파일로 저장할 디렉토리 설정\n",
    "output_dir = \"/kaggle/working\"\n",
    "Path(output_dir).mkdir(exist_ok=True)\n",
    "\n",
    "# JSON 처리\n",
    "%time process_large_ndjson(file, output_dir, chunk_size=1300000)\n"
   ]
  },
  {
   "cell_type": "code",
   "execution_count": 6,
   "id": "08c33e59",
   "metadata": {
    "execution": {
     "iopub.execute_input": "2024-10-15T16:32:08.942787Z",
     "iopub.status.busy": "2024-10-15T16:32:08.942473Z",
     "iopub.status.idle": "2024-10-15T16:32:27.788181Z",
     "shell.execute_reply": "2024-10-15T16:32:27.787343Z"
    },
    "papermill": {
     "duration": 18.869035,
     "end_time": "2024-10-15T16:32:27.790522",
     "exception": false,
     "start_time": "2024-10-15T16:32:08.921487",
     "status": "completed"
    },
    "tags": []
   },
   "outputs": [],
   "source": [
    "train_df = pl.read_parquet(\"/kaggle/working/transformed_chunk_*.parquet\")\n",
    "train_df.write_parquet(f\"{output_dir}/train.parquet\", compression=\"snappy\")\n",
    "train = train_df.to_pandas()"
   ]
  },
  {
   "cell_type": "code",
   "execution_count": 7,
   "id": "867521c4",
   "metadata": {
    "execution": {
     "iopub.execute_input": "2024-10-15T16:32:30.155781Z",
     "iopub.status.busy": "2024-10-15T16:32:30.154779Z",
     "iopub.status.idle": "2024-10-15T16:32:30.200717Z",
     "shell.execute_reply": "2024-10-15T16:32:30.199278Z"
    },
    "papermill": {
     "duration": 0.098541,
     "end_time": "2024-10-15T16:32:30.202901",
     "exception": false,
     "start_time": "2024-10-15T16:32:30.104360",
     "status": "completed"
    },
    "tags": []
   },
   "outputs": [
    {
     "data": {
      "text/html": [
       "<div>\n",
       "<style scoped>\n",
       "    .dataframe tbody tr th:only-of-type {\n",
       "        vertical-align: middle;\n",
       "    }\n",
       "\n",
       "    .dataframe tbody tr th {\n",
       "        vertical-align: top;\n",
       "    }\n",
       "\n",
       "    .dataframe thead th {\n",
       "        text-align: right;\n",
       "    }\n",
       "</style>\n",
       "<table border=\"1\" class=\"dataframe\">\n",
       "  <thead>\n",
       "    <tr style=\"text-align: right;\">\n",
       "      <th></th>\n",
       "      <th>session</th>\n",
       "      <th>aid</th>\n",
       "      <th>ts</th>\n",
       "      <th>type</th>\n",
       "    </tr>\n",
       "  </thead>\n",
       "  <tbody>\n",
       "    <tr>\n",
       "      <th>0</th>\n",
       "      <td>0</td>\n",
       "      <td>1517085</td>\n",
       "      <td>1659304800</td>\n",
       "      <td>0</td>\n",
       "    </tr>\n",
       "    <tr>\n",
       "      <th>1</th>\n",
       "      <td>0</td>\n",
       "      <td>1563459</td>\n",
       "      <td>1659304904</td>\n",
       "      <td>0</td>\n",
       "    </tr>\n",
       "    <tr>\n",
       "      <th>2</th>\n",
       "      <td>0</td>\n",
       "      <td>1309446</td>\n",
       "      <td>1659367439</td>\n",
       "      <td>0</td>\n",
       "    </tr>\n",
       "    <tr>\n",
       "      <th>3</th>\n",
       "      <td>0</td>\n",
       "      <td>16246</td>\n",
       "      <td>1659367719</td>\n",
       "      <td>0</td>\n",
       "    </tr>\n",
       "    <tr>\n",
       "      <th>4</th>\n",
       "      <td>0</td>\n",
       "      <td>1781822</td>\n",
       "      <td>1659367871</td>\n",
       "      <td>0</td>\n",
       "    </tr>\n",
       "  </tbody>\n",
       "</table>\n",
       "</div>"
      ],
      "text/plain": [
       "   session      aid          ts  type\n",
       "0        0  1517085  1659304800     0\n",
       "1        0  1563459  1659304904     0\n",
       "2        0  1309446  1659367439     0\n",
       "3        0    16246  1659367719     0\n",
       "4        0  1781822  1659367871     0"
      ]
     },
     "execution_count": 7,
     "metadata": {},
     "output_type": "execute_result"
    }
   ],
   "source": [
    "train.head()"
   ]
  },
  {
   "cell_type": "code",
   "execution_count": null,
   "id": "fa1b07ad",
   "metadata": {
    "papermill": {
     "duration": 0.04743,
     "end_time": "2024-10-15T16:32:30.295526",
     "exception": false,
     "start_time": "2024-10-15T16:32:30.248096",
     "status": "completed"
    },
    "tags": []
   },
   "outputs": [],
   "source": []
  }
 ],
 "metadata": {
  "kaggle": {
   "accelerator": "nvidiaTeslaT4",
   "dataSources": [
    {
     "datasetId": 2895394,
     "sourceId": 4991874,
     "sourceType": "datasetVersion"
    }
   ],
   "isGpuEnabled": true,
   "isInternetEnabled": true,
   "language": "python",
   "sourceType": "notebook"
  },
  "kernelspec": {
   "display_name": "Python 3",
   "language": "python",
   "name": "python3"
  },
  "language_info": {
   "codemirror_mode": {
    "name": "ipython",
    "version": 3
   },
   "file_extension": ".py",
   "mimetype": "text/x-python",
   "name": "python",
   "nbconvert_exporter": "python",
   "pygments_lexer": "ipython3",
   "version": "3.10.14"
  },
  "papermill": {
   "default_parameters": {},
   "duration": 1100.160753,
   "end_time": "2024-10-15T16:32:32.891088",
   "environment_variables": {},
   "exception": null,
   "input_path": "__notebook__.ipynb",
   "output_path": "__notebook__.ipynb",
   "parameters": {},
   "start_time": "2024-10-15T16:14:12.730335",
   "version": "2.6.0"
  }
 },
 "nbformat": 4,
 "nbformat_minor": 5
}
