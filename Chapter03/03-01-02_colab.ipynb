{
  "metadata": {
    "kernelspec": {
      "display_name": "Python 3",
      "name": "python3"
    },
    "language_info": {
      "name": "python",
      "version": "3.10.14",
      "mimetype": "text/x-python",
      "codemirror_mode": {
        "name": "ipython",
        "version": 3
      },
      "pygments_lexer": "ipython3",
      "nbconvert_exporter": "python",
      "file_extension": ".py"
    },
    "kaggle": {
      "accelerator": "nvidiaTeslaT4",
      "dataSources": [
        {
          "sourceId": 3734425,
          "sourceType": "datasetVersion",
          "datasetId": 2232669
        }
      ],
      "isInternetEnabled": true,
      "language": "python",
      "sourceType": "notebook",
      "isGpuEnabled": true
    },
    "colab": {
      "provenance": [],
      "gpuType": "T4"
    },
    "accelerator": "GPU"
  },
  "nbformat_minor": 0,
  "nbformat": 4,
  "cells": [
    {
      "source": [
        "\n",
        "# IMPORTANT: RUN THIS CELL IN ORDER TO IMPORT YOUR KAGGLE DATA SOURCES\n",
        "# TO THE CORRECT LOCATION (/kaggle/input) IN YOUR NOTEBOOK,\n",
        "# THEN FEEL FREE TO DELETE THIS CELL.\n",
        "# NOTE: THIS NOTEBOOK ENVIRONMENT DIFFERS FROM KAGGLE'S PYTHON\n",
        "# ENVIRONMENT SO THERE MAY BE MISSING LIBRARIES USED BY YOUR\n",
        "# NOTEBOOK.\n",
        "\n",
        "import os\n",
        "import sys\n",
        "from tempfile import NamedTemporaryFile\n",
        "from urllib.request import urlopen\n",
        "from urllib.parse import unquote, urlparse\n",
        "from urllib.error import HTTPError\n",
        "from zipfile import ZipFile\n",
        "import tarfile\n",
        "import shutil\n",
        "\n",
        "CHUNK_SIZE = 40960\n",
        "DATA_SOURCE_MAPPING = 'ninapro-db1-full-dataset:https%3A%2F%2Fstorage.googleapis.com%2Fkaggle-data-sets%2F2232669%2F3734425%2Fbundle%2Farchive.zip%3FX-Goog-Algorithm%3DGOOG4-RSA-SHA256%26X-Goog-Credential%3Dgcp-kaggle-com%2540kaggle-161607.iam.gserviceaccount.com%252F20240831%252Fauto%252Fstorage%252Fgoog4_request%26X-Goog-Date%3D20240831T083126Z%26X-Goog-Expires%3D259200%26X-Goog-SignedHeaders%3Dhost%26X-Goog-Signature%3Dbab08d231024154276a68a1a8fcd4c10571389060c4b8a5a96bb4625329cab6872989ed91ebd7741e31a8f8041093c6bb6c5a27e1829956f67b69730370f13c06eeecf15755f2e2c76c35913b824e74591ab8317c1a0c6de374726e2ad4e9d5f7845cf77900faea8755deb5d59b802d5d578923ddecdad8b08aa30f056d9590143ee332b36abb40272a012c823bc25dac85f597a86a7e21e4f9d8408a0597395718d5b2bf3a7e3dfd1b838e3a8fd41d99d027ad872ca9eb1d2e905149bb3453812685629af9669f2c26e688c120c46ab2f8fe2cf946116589a52269fdc1e1b3f5ca41f08fa41f595f2ae17ec98651ae3daebe1312a41b4bbd15723e539b09fe0'\n",
        "\n",
        "KAGGLE_INPUT_PATH='kaggle/input'\n",
        "KAGGLE_WORKING_PATH='kaggle/working'\n",
        "KAGGLE_SYMLINK='kaggle'\n",
        "\n",
        "!umount kaggle/input/ 2> /dev/null\n",
        "shutil.rmtree('kaggle/input', ignore_errors=True)\n",
        "os.makedirs(KAGGLE_INPUT_PATH, 0o777, exist_ok=True)\n",
        "os.makedirs(KAGGLE_WORKING_PATH, 0o777, exist_ok=True)\n",
        "\n",
        "try:\n",
        "  os.symlink(KAGGLE_INPUT_PATH, os.path.join(\"..\", 'input'), target_is_directory=True)\n",
        "except FileExistsError:\n",
        "  pass\n",
        "try:\n",
        "  os.symlink(KAGGLE_WORKING_PATH, os.path.join(\"..\", 'working'), target_is_directory=True)\n",
        "except FileExistsError:\n",
        "  pass\n",
        "\n",
        "for data_source_mapping in DATA_SOURCE_MAPPING.split(','):\n",
        "    directory, download_url_encoded = data_source_mapping.split(':')\n",
        "    download_url = unquote(download_url_encoded)\n",
        "    filename = urlparse(download_url).path\n",
        "    destination_path = os.path.join(KAGGLE_INPUT_PATH, directory)\n",
        "    try:\n",
        "        with urlopen(download_url) as fileres, NamedTemporaryFile() as tfile:\n",
        "            total_length = fileres.headers['content-length']\n",
        "            print(f'Downloading {directory}, {total_length} bytes compressed')\n",
        "            dl = 0\n",
        "            data = fileres.read(CHUNK_SIZE)\n",
        "            while len(data) > 0:\n",
        "                dl += len(data)\n",
        "                tfile.write(data)\n",
        "                done = int(50 * dl / int(total_length))\n",
        "                sys.stdout.write(f\"\\r[{'=' * done}{' ' * (50-done)}] {dl} bytes downloaded\")\n",
        "                sys.stdout.flush()\n",
        "                data = fileres.read(CHUNK_SIZE)\n",
        "            if filename.endswith('.zip'):\n",
        "              with ZipFile(tfile) as zfile:\n",
        "                zfile.extractall(destination_path)\n",
        "            else:\n",
        "              with tarfile.open(tfile.name) as tarfile:\n",
        "                tarfile.extractall(destination_path)\n",
        "            print(f'\\nDownloaded and uncompressed: {directory}')\n",
        "    except HTTPError as e:\n",
        "        print(f'Failed to load (likely expired) {download_url} to path {destination_path}')\n",
        "        continue\n",
        "    except OSError as e:\n",
        "        print(f'Failed to load {download_url} to path {destination_path}')\n",
        "        continue\n",
        "\n",
        "print('Data source import complete.')\n"
      ],
      "metadata": {
        "id": "OAYLohLwj5Bg",
        "colab": {
          "base_uri": "https://localhost:8080/"
        },
        "outputId": "893d42c5-18f7-4749-dbe3-a748459ad7bc"
      },
      "cell_type": "code",
      "outputs": [
        {
          "output_type": "stream",
          "name": "stdout",
          "text": [
            "Downloading ninapro-db1-full-dataset, 616546734 bytes compressed\n",
            "[==================================================] 616546734 bytes downloaded\n",
            "Downloaded and uncompressed: ninapro-db1-full-dataset\n",
            "Data source import complete.\n"
          ]
        }
      ],
      "execution_count": 1
    },
    {
      "cell_type": "code",
      "source": [
        "import pandas as pd"
      ],
      "metadata": {
        "execution": {
          "iopub.status.busy": "2024-08-31T08:24:25.316415Z",
          "iopub.execute_input": "2024-08-31T08:24:25.316802Z",
          "iopub.status.idle": "2024-08-31T08:24:25.689525Z",
          "shell.execute_reply.started": "2024-08-31T08:24:25.316762Z",
          "shell.execute_reply": "2024-08-31T08:24:25.688475Z"
        },
        "trusted": true,
        "id": "8fcyKkc9j5Bi"
      },
      "execution_count": 1,
      "outputs": []
    },
    {
      "cell_type": "code",
      "source": [
        "%%time\n",
        "df=pd.read_csv(\"kaggle/input/ninapro-db1-full-dataset/Ninapro_DB1.csv\")"
      ],
      "metadata": {
        "execution": {
          "iopub.status.busy": "2024-08-31T08:24:27.367545Z",
          "iopub.execute_input": "2024-08-31T08:24:27.368161Z",
          "iopub.status.idle": "2024-08-31T08:25:52.59995Z",
          "shell.execute_reply.started": "2024-08-31T08:24:27.368098Z",
          "shell.execute_reply": "2024-08-31T08:25:52.599196Z"
        },
        "trusted": true,
        "id": "rrzOweMJj5Bi"
      },
      "execution_count": null,
      "outputs": []
    },
    {
      "cell_type": "code",
      "source": [
        "import cudf"
      ],
      "metadata": {
        "execution": {
          "iopub.status.busy": "2024-08-31T08:22:38.553282Z",
          "iopub.execute_input": "2024-08-31T08:22:38.553597Z",
          "iopub.status.idle": "2024-08-31T08:22:44.14407Z",
          "shell.execute_reply.started": "2024-08-31T08:22:38.553565Z",
          "shell.execute_reply": "2024-08-31T08:22:44.143092Z"
        },
        "trusted": true,
        "id": "7mmVzi15j5Bj"
      },
      "execution_count": 2,
      "outputs": []
    },
    {
      "cell_type": "code",
      "source": [
        "%%time\n",
        "df=cudf.read_csv(\"kaggle/input/ninapro-db1-full-dataset/Ninapro_DB1.csv\")"
      ],
      "metadata": {
        "execution": {
          "iopub.status.busy": "2024-08-31T08:22:48.370509Z",
          "iopub.execute_input": "2024-08-31T08:22:48.371056Z",
          "iopub.status.idle": "2024-08-31T08:23:19.32106Z",
          "shell.execute_reply.started": "2024-08-31T08:22:48.37101Z",
          "shell.execute_reply": "2024-08-31T08:23:19.320045Z"
        },
        "trusted": true,
        "id": "mUJhp--bj5Bj",
        "outputId": "c0775201-2f87-4f06-81f8-0b6236c47866",
        "colab": {
          "base_uri": "https://localhost:8080/"
        }
      },
      "execution_count": 3,
      "outputs": [
        {
          "output_type": "stream",
          "name": "stdout",
          "text": [
            "CPU times: user 2.32 s, sys: 672 ms, total: 2.99 s\n",
            "Wall time: 4.05 s\n"
          ]
        }
      ]
    },
    {
      "cell_type": "code",
      "source": [],
      "metadata": {
        "id": "k9jI--FVj5Bj"
      },
      "execution_count": null,
      "outputs": []
    }
  ]
}