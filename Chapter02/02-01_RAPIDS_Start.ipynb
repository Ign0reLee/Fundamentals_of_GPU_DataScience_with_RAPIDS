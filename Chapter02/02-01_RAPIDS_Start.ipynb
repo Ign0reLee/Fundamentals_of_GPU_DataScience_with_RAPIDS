{
 "cells": [
  {
   "cell_type": "code",
   "execution_count": 1,
   "id": "3fbe51ce-aa78-4368-8f7a-bccc4fd668e8",
   "metadata": {},
   "outputs": [],
   "source": [
    "import time\n",
    "import numpy as np\n",
    "import pandas as pd\n",
    "import sklearn\n",
    "\n",
    "import cupy as cp\n",
    "import cudf as df\n",
    "import dask_cudf as gdf\n",
    "import cuml as cm"
   ]
  },
  {
   "cell_type": "code",
   "execution_count": 2,
   "id": "98d955cf-d017-476f-b1ee-64933f4e5581",
   "metadata": {},
   "outputs": [],
   "source": [
    "class Timer:\n",
    "    def __init__(self, name=\"cpu\"):\n",
    "        self.name = name\n",
    "        \n",
    "    def __enter__(self):\n",
    "        self.start = time.perf_counter()\n",
    "        \n",
    "    def __exit__(self, type, value, trackback):\n",
    "        self.end = time.perf_counter()\n",
    "        self.execute_time = self.end - self.start\n",
    "        print(f\"{self.name} execute time : {self.execute_time:.4f} seconds\")\n",
    "        "
   ]
  },
  {
   "cell_type": "code",
   "execution_count": 6,
   "id": "277f870c-bd75-4f91-928d-cca205c2ae29",
   "metadata": {},
   "outputs": [
    {
     "name": "stdout",
     "output_type": "stream",
     "text": [
      "cpu execute time : 2.2401 seconds\n"
     ]
    }
   ],
   "source": [
    "with Timer(\"cpu\"):\n",
    "    arr = np.random.randint(10, size=(100000000, 2)) \n",
    "    df1 = pd.DataFrame(arr)"
   ]
  },
  {
   "cell_type": "code",
   "execution_count": 7,
   "id": "47e147fc-abf3-4bee-8c54-ff9ba17252f8",
   "metadata": {},
   "outputs": [
    {
     "name": "stdout",
     "output_type": "stream",
     "text": [
      "gpu execute time : 0.2035 seconds\n"
     ]
    }
   ],
   "source": [
    "with Timer(\"gpu\"):\n",
    "    arr = cp.random.randint(10, size=(100000000, 2)) \n",
    "    df1 = df.DataFrame(arr)"
   ]
  }
 ],
 "metadata": {
  "kernelspec": {
   "display_name": "Python 3 (ipykernel)",
   "language": "python",
   "name": "python3"
  },
  "language_info": {
   "codemirror_mode": {
    "name": "ipython",
    "version": 3
   },
   "file_extension": ".py",
   "mimetype": "text/x-python",
   "name": "python",
   "nbconvert_exporter": "python",
   "pygments_lexer": "ipython3",
   "version": "3.9.18"
  }
 },
 "nbformat": 4,
 "nbformat_minor": 5
}
