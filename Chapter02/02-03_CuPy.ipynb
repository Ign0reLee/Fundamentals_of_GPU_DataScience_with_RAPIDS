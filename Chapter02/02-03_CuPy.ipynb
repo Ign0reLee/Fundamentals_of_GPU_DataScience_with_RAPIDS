{
 "cells": [
  {
   "cell_type": "markdown",
   "id": "aafcc191-40bf-4cde-8efb-375a441d8af3",
   "metadata": {},
   "source": [
    "# Import CuPy and Numpy"
   ]
  },
  {
   "cell_type": "code",
   "execution_count": 1,
   "id": "e5f8a9d2-6d16-483d-8f74-f5ca2b68e73a",
   "metadata": {},
   "outputs": [],
   "source": [
    "import numpy as np\n",
    "import cupy as cp"
   ]
  },
  {
   "cell_type": "markdown",
   "id": "f4fd6625-67d3-4a03-9539-1e8e574fd6c5",
   "metadata": {},
   "source": [
    "# CuPy Custom Kernels"
   ]
  },
  {
   "cell_type": "code",
   "execution_count": 2,
   "id": "1e3048f0-2f3b-42e3-bc89-eb368ddc906f",
   "metadata": {},
   "outputs": [],
   "source": [
    "x = cp.arange(6, dtype='f').reshape(2, 3)\n",
    "y = cp.arange(3, dtype='f')"
   ]
  },
  {
   "cell_type": "code",
   "execution_count": 3,
   "id": "59986095-d124-4d5e-a51d-066d36e53906",
   "metadata": {},
   "outputs": [
    {
     "data": {
      "text/plain": [
       "array([[0., 1., 2.],\n",
       "       [3., 4., 5.]], dtype=float32)"
      ]
     },
     "execution_count": 3,
     "metadata": {},
     "output_type": "execute_result"
    }
   ],
   "source": [
    "x"
   ]
  },
  {
   "cell_type": "code",
   "execution_count": 4,
   "id": "3a5bee9b-659a-4f19-a99d-f22f1e286dbf",
   "metadata": {},
   "outputs": [
    {
     "data": {
      "text/plain": [
       "array([0., 1., 2.], dtype=float32)"
      ]
     },
     "execution_count": 4,
     "metadata": {},
     "output_type": "execute_result"
    }
   ],
   "source": [
    "y"
   ]
  },
  {
   "cell_type": "code",
   "execution_count": 5,
   "id": "9c72d83f-122a-4edf-9d49-35af4803d33a",
   "metadata": {},
   "outputs": [],
   "source": [
    "kernel = cp.ElementwiseKernel(\n",
    "    'float32 x, float32 y', 'float32 z',\n",
    "    '''\n",
    "    if (x -2 > y) {\n",
    "        z = x * y;\n",
    "    } else {\n",
    "        z = x + y;\n",
    "    }\n",
    "    ''', 'my_kernel'\n",
    ")"
   ]
  },
  {
   "cell_type": "code",
   "execution_count": 6,
   "id": "32ccf3f5-4122-448a-9364-9cf3c0b5a493",
   "metadata": {
    "scrolled": true
   },
   "outputs": [
    {
     "data": {
      "text/plain": [
       "array([[ 0.,  2.,  4.],\n",
       "       [ 0.,  4., 10.]], dtype=float32)"
      ]
     },
     "execution_count": 6,
     "metadata": {},
     "output_type": "execute_result"
    }
   ],
   "source": [
    "kernel(x, y)"
   ]
  },
  {
   "cell_type": "markdown",
   "id": "3ffd9a2c-1939-4025-9068-c4c66b570ff0",
   "metadata": {},
   "source": [
    "# 쉽게 작성을 도와주는 FUSE"
   ]
  },
  {
   "cell_type": "code",
   "execution_count": 7,
   "id": "34060ccd-0b39-46d3-9b42-857860e5718c",
   "metadata": {},
   "outputs": [],
   "source": [
    "@cp.fuse(kernel_name='my_kernel')\n",
    "def elementwise_mykernel(x, y):\n",
    "    return cp.where(x-2 > y, x * y, x + y) \n"
   ]
  },
  {
   "cell_type": "code",
   "execution_count": 8,
   "id": "134fcafc-2489-4f36-851a-6c484f2ce95a",
   "metadata": {},
   "outputs": [
    {
     "data": {
      "text/plain": [
       "array([[ 0.,  2.,  4.],\n",
       "       [ 0.,  4., 10.]], dtype=float32)"
      ]
     },
     "execution_count": 8,
     "metadata": {},
     "output_type": "execute_result"
    }
   ],
   "source": [
    "elementwise_mykernel(x, y)"
   ]
  }
 ],
 "metadata": {
  "kernelspec": {
   "display_name": "Python 3 (ipykernel)",
   "language": "python",
   "name": "python3"
  },
  "language_info": {
   "codemirror_mode": {
    "name": "ipython",
    "version": 3
   },
   "file_extension": ".py",
   "mimetype": "text/x-python",
   "name": "python",
   "nbconvert_exporter": "python",
   "pygments_lexer": "ipython3",
   "version": "3.9.18"
  }
 },
 "nbformat": 4,
 "nbformat_minor": 5
}
